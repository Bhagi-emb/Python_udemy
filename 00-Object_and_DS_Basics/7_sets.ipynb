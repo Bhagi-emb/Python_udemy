{
 "cells": [
  {
   "cell_type": "markdown",
   "id": "10c1478b",
   "metadata": {},
   "source": [
    "# **SETS**"
   ]
  },
  {
   "cell_type": "code",
   "execution_count": 1,
   "id": "646d4c90",
   "metadata": {},
   "outputs": [
    {
     "data": {
      "text/plain": [
       "set()"
      ]
     },
     "execution_count": 1,
     "metadata": {},
     "output_type": "execute_result"
    }
   ],
   "source": [
    "myset = set()\n",
    "myset"
   ]
  },
  {
   "cell_type": "code",
   "execution_count": 4,
   "id": "20624f1d",
   "metadata": {},
   "outputs": [
    {
     "data": {
      "text/plain": [
       "{1, 2}"
      ]
     },
     "execution_count": 4,
     "metadata": {},
     "output_type": "execute_result"
    }
   ],
   "source": [
    "myset.add(1)\n",
    "myset.add(2)\n",
    "myset"
   ]
  },
  {
   "cell_type": "markdown",
   "id": "88ab8407",
   "metadata": {},
   "source": [
    "### **Set has to be unqiue values**\n",
    "#### **An un order collection of unique elements**"
   ]
  },
  {
   "cell_type": "code",
   "execution_count": 6,
   "id": "fe21b406",
   "metadata": {},
   "outputs": [
    {
     "data": {
      "text/plain": [
       "{1, 2}"
      ]
     },
     "execution_count": 6,
     "metadata": {},
     "output_type": "execute_result"
    }
   ],
   "source": [
    "myset.add(2)\n",
    "myset  #see only 2 values are assigned"
   ]
  },
  {
   "cell_type": "code",
   "execution_count": 8,
   "id": "22bc8304",
   "metadata": {},
   "outputs": [
    {
     "data": {
      "text/plain": [
       "{1, 2, 3, 4}"
      ]
     },
     "execution_count": 8,
     "metadata": {},
     "output_type": "execute_result"
    }
   ],
   "source": [
    "ex_set = {1, 2, 3 ,1,1,2,3,4,2,4,4,4}\n",
    "set(ex_set)  #set constructor"
   ]
  },
  {
   "cell_type": "code",
   "execution_count": 9,
   "id": "b08c2ef4",
   "metadata": {},
   "outputs": [
    {
     "data": {
      "text/plain": [
       "{'a', 'd', 'f', 'h', 'j'}"
      ]
     },
     "execution_count": 9,
     "metadata": {},
     "output_type": "execute_result"
    }
   ],
   "source": [
    "list = {'a','h','d','f','j','j','j','a'}\n",
    "set(list)"
   ]
  },
  {
   "cell_type": "code",
   "execution_count": 10,
   "id": "7b8bd2e3",
   "metadata": {},
   "outputs": [
    {
     "data": {
      "text/plain": [
       "{'P', 'a', 'e', 'l', 'r'}"
      ]
     },
     "execution_count": 10,
     "metadata": {},
     "output_type": "execute_result"
    }
   ],
   "source": [
    "set('Parallel')"
   ]
  }
 ],
 "metadata": {
  "kernelspec": {
   "display_name": "Python 3",
   "language": "python",
   "name": "python3"
  },
  "language_info": {
   "codemirror_mode": {
    "name": "ipython",
    "version": 3
   },
   "file_extension": ".py",
   "mimetype": "text/x-python",
   "name": "python",
   "nbconvert_exporter": "python",
   "pygments_lexer": "ipython3",
   "version": "3.8.10"
  }
 },
 "nbformat": 4,
 "nbformat_minor": 5
}
