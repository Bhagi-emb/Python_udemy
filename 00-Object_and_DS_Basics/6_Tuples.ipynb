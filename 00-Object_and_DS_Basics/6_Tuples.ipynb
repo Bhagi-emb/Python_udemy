{
 "cells": [
  {
   "cell_type": "markdown",
   "id": "dee0a66c",
   "metadata": {},
   "source": [
    "# **TUPLES**"
   ]
  },
  {
   "cell_type": "markdown",
   "id": "2dba85a9",
   "metadata": {},
   "source": [
    "***Will check how Tuples and list are diff***"
   ]
  },
  {
   "cell_type": "code",
   "execution_count": 6,
   "id": "37eb01e3",
   "metadata": {},
   "outputs": [
    {
     "data": {
      "text/plain": [
       "('a', 'b', 'c')"
      ]
     },
     "execution_count": 6,
     "metadata": {},
     "output_type": "execute_result"
    }
   ],
   "source": [
    "T = ('a','b','c')\n",
    "T"
   ]
  },
  {
   "cell_type": "code",
   "execution_count": 4,
   "id": "6c37d698",
   "metadata": {},
   "outputs": [
    {
     "data": {
      "text/plain": [
       "['a', 'b', 'c']"
      ]
     },
     "execution_count": 4,
     "metadata": {},
     "output_type": "execute_result"
    }
   ],
   "source": [
    "mylist = ['a','b','c']\n",
    "mylist"
   ]
  },
  {
   "cell_type": "code",
   "execution_count": 8,
   "id": "ac976d74",
   "metadata": {},
   "outputs": [
    {
     "data": {
      "text/plain": [
       "list"
      ]
     },
     "execution_count": 8,
     "metadata": {},
     "output_type": "execute_result"
    }
   ],
   "source": [
    "type(mylist)"
   ]
  },
  {
   "cell_type": "code",
   "execution_count": 9,
   "id": "80d3a304",
   "metadata": {},
   "outputs": [
    {
     "data": {
      "text/plain": [
       "tuple"
      ]
     },
     "execution_count": 9,
     "metadata": {},
     "output_type": "execute_result"
    }
   ],
   "source": [
    "type(T)"
   ]
  },
  {
   "cell_type": "markdown",
   "id": "53a06b38",
   "metadata": {},
   "source": [
    "****update the tuple****"
   ]
  },
  {
   "cell_type": "code",
   "execution_count": 10,
   "id": "cff7db35",
   "metadata": {},
   "outputs": [],
   "source": [
    "T = ('one',2,3.0)"
   ]
  },
  {
   "cell_type": "code",
   "execution_count": 11,
   "id": "59afe2f9",
   "metadata": {},
   "outputs": [
    {
     "data": {
      "text/plain": [
       "('one', 2, 3.0)"
      ]
     },
     "execution_count": 11,
     "metadata": {},
     "output_type": "execute_result"
    }
   ],
   "source": [
    "T"
   ]
  },
  {
   "cell_type": "code",
   "execution_count": 12,
   "id": "03fa4a41",
   "metadata": {},
   "outputs": [
    {
     "data": {
      "text/plain": [
       "3.0"
      ]
     },
     "execution_count": 12,
     "metadata": {},
     "output_type": "execute_result"
    }
   ],
   "source": [
    "T[2]"
   ]
  },
  {
   "cell_type": "code",
   "execution_count": 13,
   "id": "fac494bb",
   "metadata": {},
   "outputs": [
    {
     "data": {
      "text/plain": [
       "3.0"
      ]
     },
     "execution_count": 13,
     "metadata": {},
     "output_type": "execute_result"
    }
   ],
   "source": [
    "T[-1]"
   ]
  },
  {
   "cell_type": "code",
   "execution_count": 16,
   "id": "308e83d6",
   "metadata": {},
   "outputs": [],
   "source": [
    "T = (1,2,1,2,2)"
   ]
  },
  {
   "cell_type": "code",
   "execution_count": null,
   "id": "64106c5d",
   "metadata": {},
   "outputs": [
    {
     "data": {
      "text/plain": [
       "3"
      ]
     },
     "execution_count": 17,
     "metadata": {},
     "output_type": "execute_result"
    }
   ],
   "source": [
    "T.count(2) #How many times does 2 appear in T?"
   ]
  },
  {
   "cell_type": "code",
   "execution_count": null,
   "id": "fbcad160",
   "metadata": {},
   "outputs": [
    {
     "data": {
      "text/plain": [
       "1"
      ]
     },
     "execution_count": 18,
     "metadata": {},
     "output_type": "execute_result"
    }
   ],
   "source": [
    "T.index(2) #INDEX -POSTION of first occurances\n"
   ]
  },
  {
   "cell_type": "markdown",
   "id": "39694f61",
   "metadata": {},
   "source": [
    "***Will re-assign for tuple and list***"
   ]
  },
  {
   "cell_type": "code",
   "execution_count": 20,
   "id": "4471c886",
   "metadata": {},
   "outputs": [
    {
     "data": {
      "text/plain": [
       "[1, 2, 3]"
      ]
     },
     "execution_count": 20,
     "metadata": {},
     "output_type": "execute_result"
    }
   ],
   "source": [
    "Mylist = [1,2,3]\n",
    "Mylist"
   ]
  },
  {
   "cell_type": "code",
   "execution_count": null,
   "id": "29230af8",
   "metadata": {},
   "outputs": [
    {
     "data": {
      "text/plain": [
       "[100, 2, 3]"
      ]
     },
     "execution_count": 21,
     "metadata": {},
     "output_type": "execute_result"
    }
   ],
   "source": [
    "Mylist[0] = 100  #reassigning the first element\n",
    "Mylist"
   ]
  },
  {
   "cell_type": "code",
   "execution_count": 23,
   "id": "4f9cbe36",
   "metadata": {},
   "outputs": [],
   "source": [
    "#T[2] = 4\n",
    "#T[2] = 4 #This will not work because T is a tuple and tuples are immutable"
   ]
  }
 ],
 "metadata": {
  "kernelspec": {
   "display_name": "Python 3",
   "language": "python",
   "name": "python3"
  },
  "language_info": {
   "codemirror_mode": {
    "name": "ipython",
    "version": 3
   },
   "file_extension": ".py",
   "mimetype": "text/x-python",
   "name": "python",
   "nbconvert_exporter": "python",
   "pygments_lexer": "ipython3",
   "version": "3.8.10"
  }
 },
 "nbformat": 4,
 "nbformat_minor": 5
}
