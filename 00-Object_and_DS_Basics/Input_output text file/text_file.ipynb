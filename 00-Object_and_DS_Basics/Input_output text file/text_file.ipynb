{
 "cells": [
  {
   "cell_type": "markdown",
   "id": "c7529ac8",
   "metadata": {},
   "source": [
    "# **Create the File**\n",
    "#### **r,w,a - read write append**\n",
    "#### **r+,w+ - read and write ,write and read (overwrite&create file)**\n",
    " ##### **%%writefile - Its only work in jupyter notebook**"
   ]
  },
  {
   "cell_type": "code",
   "execution_count": 3,
   "id": "3063a1cd",
   "metadata": {},
   "outputs": [
    {
     "name": "stdout",
     "output_type": "stream",
     "text": [
      "Writing Basic.txt\n"
     ]
    }
   ],
   "source": [
    "%%writefile Basic.txt    \n",
    "Hello world\n",
    "This is a test file.\n",
    "This is the second line.\n",
    "This is the third line."
   ]
  },
  {
   "cell_type": "code",
   "execution_count": 6,
   "id": "1c0f8d07",
   "metadata": {},
   "outputs": [
    {
     "name": "stdout",
     "output_type": "stream",
     "text": [
      "Hello world\n",
      "This is a test file.\n",
      "This is the second line.\n",
      "This is the third line.\n",
      "\n"
     ]
    }
   ],
   "source": [
    "myfile = open('basic.txt','r')\n",
    "print(myfile.read())"
   ]
  },
  {
   "cell_type": "code",
   "execution_count": 43,
   "id": "b86e274e",
   "metadata": {},
   "outputs": [
    {
     "data": {
      "text/plain": [
       "'/mnt/d/Internal_Projects/learning/python/Python_udemy/Object_and_DS_Basics/Input_output text file'"
      ]
     },
     "execution_count": 43,
     "metadata": {},
     "output_type": "execute_result"
    }
   ],
   "source": [
    "pwd #path"
   ]
  },
  {
   "cell_type": "code",
   "execution_count": 12,
   "id": "8f2545b1",
   "metadata": {},
   "outputs": [
    {
     "name": "stdout",
     "output_type": "stream",
     "text": [
      "\n",
      "Hello world\n",
      "This is a test file.\n",
      "This is the second line.\n",
      "This is the third line.\n",
      "\n"
     ]
    },
    {
     "data": {
      "text/plain": [
       "0"
      ]
     },
     "execution_count": 12,
     "metadata": {},
     "output_type": "execute_result"
    }
   ],
   "source": [
    "print(myfile.read()) #there is no o/p because the file pointer is at the end of the file, reset the file pointer to the beginning / close and open again\n",
    "myfile.seek(0) #reset the file pointer to the beginning\n",
    "print(myfile.read()) #now it will read the file again\n",
    "myfile.seek(0) #reset the file pointer to the beginning"
   ]
  },
  {
   "cell_type": "code",
   "execution_count": 14,
   "id": "3f75c751",
   "metadata": {},
   "outputs": [
    {
     "name": "stdout",
     "output_type": "stream",
     "text": [
      "[]\n"
     ]
    }
   ],
   "source": [
    "content = myfile.readlines() #readlines() reads the file line by line and returns a list of lines\n",
    "print(content) #print the list of lines"
   ]
  },
  {
   "cell_type": "code",
   "execution_count": 15,
   "id": "9d9811cc",
   "metadata": {},
   "outputs": [],
   "source": [
    "myfile.close() #close the file"
   ]
  },
  {
   "cell_type": "code",
   "execution_count": 19,
   "id": "ce255e30",
   "metadata": {},
   "outputs": [
    {
     "name": "stdout",
     "output_type": "stream",
     "text": [
      "Hello world\n",
      "This is a test file.\n",
      "This is the second line.\n",
      "This is the third line.\n",
      "\n"
     ]
    }
   ],
   "source": [
    "#Other way to read ,write the \n",
    "with open(\"Basic.txt\") as myfile:\n",
    "    content =myfile.read()\n",
    "    print (content)"
   ]
  },
  {
   "cell_type": "code",
   "execution_count": 21,
   "id": "d19c0f10",
   "metadata": {},
   "outputs": [
    {
     "name": "stdout",
     "output_type": "stream",
     "text": [
      "Hello world\n",
      "This is a test file.\n",
      "This is the second line.\n",
      "This is the third line.\n",
      "\n"
     ]
    }
   ],
   "source": [
    "print(content) #print the content of the file , no issue of seek or close\n",
    "#with open(\"Basic.txt\") as myfile:"
   ]
  },
  {
   "cell_type": "code",
   "execution_count": 24,
   "id": "d702186d",
   "metadata": {},
   "outputs": [],
   "source": [
    "with open(\"basic.txt\",'w') as myfile:\n",
    "    myfile.write(\"added this line to the file\\n\")\n",
    "    #content = myfile.read()\n",
    "    #print(content) #this will not work because the file is opened in write mode, so it will not read anything\n"
   ]
  },
  {
   "cell_type": "code",
   "execution_count": 40,
   "id": "a366c257",
   "metadata": {},
   "outputs": [
    {
     "name": "stdout",
     "output_type": "stream",
     "text": [
      "hellogeeello\n",
      "he\n",
      "mojo jojooo\n"
     ]
    }
   ],
   "source": [
    "with open (\"textu.txt\",\"w+\") as f:\n",
    "    f.write('hellogeeello')\n",
    "    f.seek(0)\n",
    "    data=f.read()\n",
    "    print(data)\n",
    "\n",
    "    f.seek(2)\n",
    "    f.write('\\nmojo jojooo')\n",
    "    f.seek(0)\n",
    "\n",
    "    data=f.read()\n",
    "    print(data)"
   ]
  },
  {
   "cell_type": "code",
   "execution_count": 42,
   "id": "0b572f56",
   "metadata": {},
   "outputs": [
    {
     "name": "stdout",
     "output_type": "stream",
     "text": [
      "hellogeeello\n",
      "hellogeeello\n",
      "mojo jojooo\n"
     ]
    }
   ],
   "source": [
    "with open(\"textu.txt\", \"w+\") as f:\n",
    "    f.write('hellogeeello')\n",
    "    f.seek(0)\n",
    "    data = f.read()\n",
    "    print(data)\n",
    "\n",
    "    f.seek(0, 2)  # Move the file pointer to the end of the file f.seek(0) - data missing\n",
    "    f.write('\\nmojo jojooo')\n",
    "    f.seek(0)\n",
    "\n",
    "    data = f.read()\n",
    "    print(data)"
   ]
  }
 ],
 "metadata": {
  "kernelspec": {
   "display_name": "Python 3",
   "language": "python",
   "name": "python3"
  },
  "language_info": {
   "codemirror_mode": {
    "name": "ipython",
    "version": 3
   },
   "file_extension": ".py",
   "mimetype": "text/x-python",
   "name": "python",
   "nbconvert_exporter": "python",
   "pygments_lexer": "ipython3",
   "version": "3.8.10"
  }
 },
 "nbformat": 4,
 "nbformat_minor": 5
}
