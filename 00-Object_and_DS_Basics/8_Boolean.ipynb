{
 "cells": [
  {
   "cell_type": "markdown",
   "id": "1d4a3b11",
   "metadata": {},
   "source": [
    "# **Boolean**"
   ]
  },
  {
   "cell_type": "markdown",
   "id": "a956443b",
   "metadata": {},
   "source": [
    "# **Syntax :**\n",
    "**True (INVALID - true)**\n",
    "  **Flase (INVALID - false)**"
   ]
  },
  {
   "cell_type": "code",
   "execution_count": 1,
   "id": "210fc5d8",
   "metadata": {},
   "outputs": [
    {
     "data": {
      "text/plain": [
       "bool"
      ]
     },
     "execution_count": 1,
     "metadata": {},
     "output_type": "execute_result"
    }
   ],
   "source": [
    "type(True) #checking type"
   ]
  },
  {
   "cell_type": "code",
   "execution_count": 3,
   "id": "c6c7dabb",
   "metadata": {},
   "outputs": [
    {
     "data": {
      "text/plain": [
       "False"
      ]
     },
     "execution_count": 3,
     "metadata": {},
     "output_type": "execute_result"
    }
   ],
   "source": [
    "1 > 2"
   ]
  },
  {
   "cell_type": "code",
   "execution_count": 4,
   "id": "d651b255",
   "metadata": {},
   "outputs": [
    {
     "data": {
      "text/plain": [
       "True"
      ]
     },
     "execution_count": 4,
     "metadata": {},
     "output_type": "execute_result"
    }
   ],
   "source": [
    "1 == 1"
   ]
  },
  {
   "cell_type": "code",
   "execution_count": 7,
   "id": "9f1e12d3",
   "metadata": {},
   "outputs": [],
   "source": [
    "b = None #spl creating a variable\n",
    "b"
   ]
  }
 ],
 "metadata": {
  "kernelspec": {
   "display_name": "Python 3",
   "language": "python",
   "name": "python3"
  },
  "language_info": {
   "codemirror_mode": {
    "name": "ipython",
    "version": 3
   },
   "file_extension": ".py",
   "mimetype": "text/x-python",
   "name": "python",
   "nbconvert_exporter": "python",
   "pygments_lexer": "ipython3",
   "version": "3.8.10"
  }
 },
 "nbformat": 4,
 "nbformat_minor": 5
}
