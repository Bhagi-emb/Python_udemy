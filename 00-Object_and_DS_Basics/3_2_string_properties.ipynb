{
 "cells": [
  {
   "cell_type": "markdown",
   "id": "49946c4d-18e1-4e77-8b88-9bfa1e55db57",
   "metadata": {
    "jp-MarkdownHeadingCollapsed": true
   },
   "source": [
    "# immutability - cannot change"
   ]
  },
  {
   "cell_type": "code",
   "execution_count": 4,
   "id": "4ac7ecc2-82bc-4820-8477-e947f3292b36",
   "metadata": {},
   "outputs": [],
   "source": [
    "name = \"syam\""
   ]
  },
  {
   "cell_type": "markdown",
   "id": "ef147a91-dd65-494b-ab71-e214effff09f",
   "metadata": {},
   "source": [
    "#name[0]='h' -> cannot change in this way : throw typo error(object does not support item assignment)"
   ]
  },
  {
   "cell_type": "markdown",
   "id": "a69204c1-2f60-4e8e-80da-2107a2e9be8b",
   "metadata": {},
   "source": [
    "#string concatnation"
   ]
  },
  {
   "cell_type": "code",
   "execution_count": 17,
   "id": "5bbfc4b5-9926-4199-8e90-724a33dcb6da",
   "metadata": {},
   "outputs": [],
   "source": [
    "ch_name = name[1:]"
   ]
  },
  {
   "cell_type": "code",
   "execution_count": 21,
   "id": "4e15d1ff-8957-4053-a21b-687432ec82eb",
   "metadata": {},
   "outputs": [
    {
     "data": {
      "text/plain": [
       "'yam'"
      ]
     },
     "execution_count": 21,
     "metadata": {},
     "output_type": "execute_result"
    }
   ],
   "source": [
    "ch_name"
   ]
  },
  {
   "cell_type": "code",
   "execution_count": 25,
   "id": "80d90370-85e6-45a0-9b2f-01582f38dd51",
   "metadata": {},
   "outputs": [
    {
     "data": {
      "text/plain": [
       "'pyam'"
      ]
     },
     "execution_count": 25,
     "metadata": {},
     "output_type": "execute_result"
    }
   ],
   "source": [
    "'p' + ch_name"
   ]
  },
  {
   "cell_type": "code",
   "execution_count": 29,
   "id": "21456198-647c-4317-96c7-59253a5062f8",
   "metadata": {},
   "outputs": [
    {
     "data": {
      "text/plain": [
       "'yamp'"
      ]
     },
     "execution_count": 29,
     "metadata": {},
     "output_type": "execute_result"
    }
   ],
   "source": [
    "ch_name + 'p'"
   ]
  },
  {
   "cell_type": "code",
   "execution_count": 31,
   "id": "19038bcc-ea84-4aaa-bdf7-cf3809742422",
   "metadata": {},
   "outputs": [],
   "source": [
    "x = 'p' + ch_name"
   ]
  },
  {
   "cell_type": "code",
   "execution_count": 35,
   "id": "be644553-0fb2-4168-9672-378176234419",
   "metadata": {},
   "outputs": [
    {
     "name": "stdout",
     "output_type": "stream",
     "text": [
      "pyam\n"
     ]
    }
   ],
   "source": [
    "print(x) # example for string concat"
   ]
  },
  {
   "cell_type": "markdown",
   "id": "d489c85c-10ac-4edb-9b16-e63e3f9a157e",
   "metadata": {
    "jp-MarkdownHeadingCollapsed": true
   },
   "source": [
    "# Example for string concat ( + *)"
   ]
  },
  {
   "cell_type": "code",
   "execution_count": 63,
   "id": "8682e4ef-34d7-45c3-aa9f-8c1b2b2e126e",
   "metadata": {},
   "outputs": [],
   "source": [
    "str1 ='hello'"
   ]
  },
  {
   "cell_type": "code",
   "execution_count": 65,
   "id": "896c566b-45ef-494a-b0df-56788a36bffb",
   "metadata": {},
   "outputs": [],
   "source": [
    "str2 = \" ,its beautiful\""
   ]
  },
  {
   "cell_type": "code",
   "execution_count": 67,
   "id": "11d3b60c-71c0-49c0-ba9e-94da580eb12c",
   "metadata": {},
   "outputs": [],
   "source": [
    "str1 = str1 + str2 #adding string1 and string2"
   ]
  },
  {
   "cell_type": "code",
   "execution_count": 71,
   "id": "4f78d847-0d71-4cb1-9986-170c529922a9",
   "metadata": {},
   "outputs": [
    {
     "name": "stdout",
     "output_type": "stream",
     "text": [
      "hello ,its beautiful\n"
     ]
    }
   ],
   "source": [
    "print(str1)"
   ]
  },
  {
   "cell_type": "code",
   "execution_count": 73,
   "id": "f25a2a98-a716-49b2-a33b-56a3e42358ae",
   "metadata": {},
   "outputs": [],
   "source": [
    "letter = 'z'"
   ]
  },
  {
   "cell_type": "code",
   "execution_count": 75,
   "id": "54901f3d-a569-4c9b-ab1d-da799b37ed52",
   "metadata": {},
   "outputs": [],
   "source": [
    "letter = letter *10"
   ]
  },
  {
   "cell_type": "code",
   "execution_count": 79,
   "id": "d6bffa75-f1c6-47b2-90e7-e134dd081286",
   "metadata": {},
   "outputs": [
    {
     "name": "stdout",
     "output_type": "stream",
     "text": [
      "zzzzzzzzzz\n"
     ]
    }
   ],
   "source": [
    "print(letter) #repeating letter 10 times"
   ]
  },
  {
   "cell_type": "markdown",
   "id": "a46f720e-8cea-42ae-8058-fffc63cd438e",
   "metadata": {
    "jp-MarkdownHeadingCollapsed": true
   },
   "source": [
    "# Example for number concat"
   ]
  },
  {
   "cell_type": "code",
   "execution_count": 85,
   "id": "0bc31142-3f5e-4215-a081-a15a9998a034",
   "metadata": {},
   "outputs": [
    {
     "data": {
      "text/plain": [
       "5"
      ]
     },
     "execution_count": 85,
     "metadata": {},
     "output_type": "execute_result"
    }
   ],
   "source": [
    "2 +3 "
   ]
  },
  {
   "cell_type": "code",
   "execution_count": 89,
   "id": "661d9fd6-937f-40e8-9a89-d52207c3c992",
   "metadata": {},
   "outputs": [
    {
     "data": {
      "text/plain": [
       "'23'"
      ]
     },
     "execution_count": 89,
     "metadata": {},
     "output_type": "execute_result"
    }
   ],
   "source": [
    "'2' +'3'"
   ]
  },
  {
   "cell_type": "code",
   "execution_count": 93,
   "id": "4a7a5fce-6bd7-40fc-8252-2207e618d8a4",
   "metadata": {},
   "outputs": [
    {
     "data": {
      "text/plain": [
       "'222'"
      ]
     },
     "execution_count": 93,
     "metadata": {},
     "output_type": "execute_result"
    }
   ],
   "source": [
    "'2'*3"
   ]
  },
  {
   "cell_type": "markdown",
   "id": "83d1c2ce-cc77-4387-b26c-98c2ce83f146",
   "metadata": {},
   "source": [
    "#'2' * '3'  #TypeError: can't multiply sequence by non-int of type 'str'"
   ]
  },
  {
   "cell_type": "markdown",
   "id": "4b86be2b-5d1e-4a21-9ed6-5fb88113e215",
   "metadata": {
    "jp-MarkdownHeadingCollapsed": true
   },
   "source": [
    "# Example String Properties"
   ]
  },
  {
   "cell_type": "code",
   "execution_count": 102,
   "id": "c8b821fa-8697-4fea-9ef1-d556ff591971",
   "metadata": {},
   "outputs": [],
   "source": [
    "x = \"hello string\""
   ]
  },
  {
   "cell_type": "code",
   "execution_count": 108,
   "id": "9eb87b87-4884-477c-8447-88a2890526fd",
   "metadata": {},
   "outputs": [
    {
     "data": {
      "text/plain": [
       "'HELLO STRING'"
      ]
     },
     "execution_count": 108,
     "metadata": {},
     "output_type": "execute_result"
    }
   ],
   "source": [
    "x.upper() #x.tab can check properties"
   ]
  },
  {
   "cell_type": "code",
   "execution_count": 114,
   "id": "b2290953-7c7f-447f-ba74-8eb449a9c1c9",
   "metadata": {},
   "outputs": [
    {
     "data": {
      "text/plain": [
       "4"
      ]
     },
     "execution_count": 114,
     "metadata": {},
     "output_type": "execute_result"
    }
   ],
   "source": [
    "x.find('o')"
   ]
  },
  {
   "cell_type": "code",
   "execution_count": 118,
   "id": "b8d9fb34-5da6-4fc5-b41a-3502393cc70d",
   "metadata": {},
   "outputs": [
    {
     "data": {
      "text/plain": [
       "['hello', 'string']"
      ]
     },
     "execution_count": 118,
     "metadata": {},
     "output_type": "execute_result"
    }
   ],
   "source": [
    "x.split()"
   ]
  },
  {
   "cell_type": "code",
   "execution_count": 124,
   "id": "0f98b488-247a-4f24-87ea-cae696336398",
   "metadata": {},
   "outputs": [
    {
     "data": {
      "text/plain": [
       "['hello str', 'ng']"
      ]
     },
     "execution_count": 124,
     "metadata": {},
     "output_type": "execute_result"
    }
   ],
   "source": [
    "x.split('i')"
   ]
  }
 ],
 "metadata": {
  "kernelspec": {
   "display_name": "Python [conda env:Python]",
   "language": "python",
   "name": "conda-env-Python-py"
  },
  "language_info": {
   "codemirror_mode": {
    "name": "ipython",
    "version": 3
   },
   "file_extension": ".py",
   "mimetype": "text/x-python",
   "name": "python",
   "nbconvert_exporter": "python",
   "pygments_lexer": "ipython3",
   "version": "3.12.9"
  }
 },
 "nbformat": 4,
 "nbformat_minor": 5
}
