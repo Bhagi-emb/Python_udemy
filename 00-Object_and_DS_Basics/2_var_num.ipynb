{
 "cells": [
  {
   "cell_type": "code",
   "execution_count": 2,
   "id": "fa7ed04e-f687-41ed-bceb-2d4ea728eace",
   "metadata": {},
   "outputs": [],
   "source": [
    "a = 5"
   ]
  },
  {
   "cell_type": "code",
   "execution_count": 3,
   "id": "c313cb5c-d8d5-4d30-8a31-4b1efb4afc38",
   "metadata": {},
   "outputs": [
    {
     "data": {
      "text/plain": [
       "5"
      ]
     },
     "execution_count": 3,
     "metadata": {},
     "output_type": "execute_result"
    }
   ],
   "source": [
    "a"
   ]
  },
  {
   "cell_type": "code",
   "execution_count": 4,
   "id": "f7685763-1451-4298-acb5-f195537a640b",
   "metadata": {},
   "outputs": [],
   "source": [
    "a=10"
   ]
  },
  {
   "cell_type": "code",
   "execution_count": 5,
   "id": "0ec89d50-081a-4258-8f70-4729f3e64aff",
   "metadata": {},
   "outputs": [
    {
     "data": {
      "text/plain": [
       "10"
      ]
     },
     "execution_count": 5,
     "metadata": {},
     "output_type": "execute_result"
    }
   ],
   "source": [
    "a"
   ]
  },
  {
   "cell_type": "code",
   "execution_count": 6,
   "id": "eb6af10a-973d-416f-8557-f1249e20d9bb",
   "metadata": {},
   "outputs": [],
   "source": [
    "a = a+a"
   ]
  },
  {
   "cell_type": "code",
   "execution_count": 7,
   "id": "eecca5f6-79c1-44dc-84d3-67dff69b871f",
   "metadata": {},
   "outputs": [
    {
     "data": {
      "text/plain": [
       "20"
      ]
     },
     "execution_count": 7,
     "metadata": {},
     "output_type": "execute_result"
    }
   ],
   "source": [
    "a"
   ]
  },
  {
   "cell_type": "code",
   "execution_count": 8,
   "id": "5f8ffc2b-38e1-499c-8990-0753a61f6775",
   "metadata": {},
   "outputs": [
    {
     "data": {
      "text/plain": [
       "int"
      ]
     },
     "execution_count": 8,
     "metadata": {},
     "output_type": "execute_result"
    }
   ],
   "source": [
    "type(a)"
   ]
  },
  {
   "cell_type": "code",
   "execution_count": 9,
   "id": "14166bc6-38ef-41fc-8a16-72ea08d7f30a",
   "metadata": {},
   "outputs": [],
   "source": [
    "a=2.3"
   ]
  },
  {
   "cell_type": "code",
   "execution_count": 10,
   "id": "9297525e-67b7-485a-80c8-ffc65ff290b3",
   "metadata": {},
   "outputs": [
    {
     "data": {
      "text/plain": [
       "2.3"
      ]
     },
     "execution_count": 10,
     "metadata": {},
     "output_type": "execute_result"
    }
   ],
   "source": [
    "a"
   ]
  },
  {
   "cell_type": "code",
   "execution_count": 11,
   "id": "b5c0206c-a21c-4cee-bc3a-a168d59d72b4",
   "metadata": {},
   "outputs": [
    {
     "data": {
      "text/plain": [
       "float"
      ]
     },
     "execution_count": 11,
     "metadata": {},
     "output_type": "execute_result"
    }
   ],
   "source": [
    "type(a)"
   ]
  },
  {
   "cell_type": "code",
   "execution_count": 12,
   "id": "b7fc6596-2fe4-4f10-bcb1-d90864b169f1",
   "metadata": {},
   "outputs": [],
   "source": [
    "a = \"syam\""
   ]
  },
  {
   "cell_type": "code",
   "execution_count": 13,
   "id": "0ea58b6f-01cc-42d9-90e4-dee074f94f18",
   "metadata": {},
   "outputs": [
    {
     "data": {
      "text/plain": [
       "'syam'"
      ]
     },
     "execution_count": 13,
     "metadata": {},
     "output_type": "execute_result"
    }
   ],
   "source": [
    "a"
   ]
  },
  {
   "cell_type": "code",
   "execution_count": 14,
   "id": "0a4be4a5-bc55-4de8-989d-82b04e1c2916",
   "metadata": {},
   "outputs": [
    {
     "data": {
      "text/plain": [
       "str"
      ]
     },
     "execution_count": 14,
     "metadata": {},
     "output_type": "execute_result"
    }
   ],
   "source": [
    "type(a)"
   ]
  },
  {
   "cell_type": "code",
   "execution_count": 48,
   "id": "c27b7bce-dfc8-45d2-b1eb-90445313a6f1",
   "metadata": {},
   "outputs": [],
   "source": [
    "my_inc = 1000000\n",
    "tax_rate = 30\n",
    "my_tax = my_inc * (tax_rate/100)"
   ]
  },
  {
   "cell_type": "code",
   "execution_count": 50,
   "id": "f7e6d60c-fd17-49cc-a6d3-d4fe0ac2e4b1",
   "metadata": {},
   "outputs": [
    {
     "data": {
      "text/plain": [
       "300000.0"
      ]
     },
     "execution_count": 50,
     "metadata": {},
     "output_type": "execute_result"
    }
   ],
   "source": [
    "my_tax"
   ]
  }
 ],
 "metadata": {
  "kernelspec": {
   "display_name": "Python [conda env:Python]",
   "language": "python",
   "name": "conda-env-Python-py"
  },
  "language_info": {
   "codemirror_mode": {
    "name": "ipython",
    "version": 3
   },
   "file_extension": ".py",
   "mimetype": "text/x-python",
   "name": "python",
   "nbconvert_exporter": "python",
   "pygments_lexer": "ipython3",
   "version": "3.12.9"
  }
 },
 "nbformat": 4,
 "nbformat_minor": 5
}
