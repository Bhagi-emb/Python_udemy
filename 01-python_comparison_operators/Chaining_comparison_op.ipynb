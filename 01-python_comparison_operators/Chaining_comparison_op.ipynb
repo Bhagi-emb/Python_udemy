{
 "cells": [
  {
   "cell_type": "markdown",
   "id": "7ebc39c7",
   "metadata": {},
   "source": [
    "# **Comparison ops and chaining comparison ops with logical**"
   ]
  },
  {
   "cell_type": "code",
   "execution_count": 2,
   "id": "8896fb46",
   "metadata": {},
   "outputs": [
    {
     "name": "stdout",
     "output_type": "stream",
     "text": [
      "False\n",
      "True\n",
      "True\n",
      "False\n",
      "True\n",
      "False\n"
     ]
    }
   ],
   "source": [
    "##comparsion ops\n",
    "a=5\n",
    "b=3\n",
    "print(a==b) #False\n",
    "print(a!=b) #True\n",
    "print(a>b) #True\n",
    "print(a<b) #False\n",
    "print(a>=b) #True\n",
    "print(a<=b) #False"
   ]
  },
  {
   "cell_type": "markdown",
   "id": "ad9da952",
   "metadata": {},
   "source": [
    "##### **Chaining concept doesn't exist on C**"
   ]
  },
  {
   "cell_type": "code",
   "execution_count": null,
   "id": "d8d4e058",
   "metadata": {},
   "outputs": [
    {
     "name": "stdout",
     "output_type": "stream",
     "text": [
      "True\n",
      "True\n",
      "True\n",
      "False\n",
      "True\n",
      "True\n",
      "False\n"
     ]
    }
   ],
   "source": [
    "##chaining comparsion ops\n",
    "a=3\n",
    "b=5\n",
    "c=7\n",
    "print(a<b) #True\n",
    "print(b<c) #True\n",
    "print(a<b<c) #True #chains all the comparsion ops\n",
    "print(a<b>c) #false #only the first comparsion is true \n",
    "print(a<b and b<c) #True\n",
    "print(a<b or b<c) #True\n",
    "print(not(a<b<c)) #False  #more readable in this compare to !="
   ]
  }
 ],
 "metadata": {
  "kernelspec": {
   "display_name": "Python 3",
   "language": "python",
   "name": "python3"
  },
  "language_info": {
   "codemirror_mode": {
    "name": "ipython",
    "version": 3
   },
   "file_extension": ".py",
   "mimetype": "text/x-python",
   "name": "python",
   "nbconvert_exporter": "python",
   "pygments_lexer": "ipython3",
   "version": "3.8.10"
  }
 },
 "nbformat": 4,
 "nbformat_minor": 5
}
