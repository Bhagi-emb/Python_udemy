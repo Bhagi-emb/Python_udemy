{
 "cells": [
  {
   "cell_type": "markdown",
   "id": "a8be6b8b-6cd5-403f-b690-96227f32cd8b",
   "metadata": {},
   "source": [
    "# Dictionaries syntax: {key1:'value1',key2:'value2'}"
   ]
  },
  {
   "cell_type": "code",
   "execution_count": null,
   "id": "c17fa28f-7bf1-42f4-b0ac-fe98140cf7e4",
   "metadata": {},
   "outputs": [],
   "source": [
    "list. ="
   ]
  },
  {
   "cell_type": "code",
   "execution_count": null,
   "id": "d53050e7-421e-48b1-ba2b-5dab5c91428a",
   "metadata": {},
   "outputs": [],
   "source": []
  }
 ],
 "metadata": {
  "kernelspec": {
   "display_name": "Python [conda env:Python]",
   "language": "python",
   "name": "conda-env-Python-py"
  },
  "language_info": {
   "codemirror_mode": {
    "name": "ipython",
    "version": 3
   },
   "file_extension": ".py",
   "mimetype": "text/x-python",
   "name": "python",
   "nbconvert_exporter": "python",
   "pygments_lexer": "ipython3",
   "version": "3.12.9"
  }
 },
 "nbformat": 4,
 "nbformat_minor": 5
}
