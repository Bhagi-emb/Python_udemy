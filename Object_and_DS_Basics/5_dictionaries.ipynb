{
 "cells": [
  {
   "cell_type": "markdown",
   "id": "a8be6b8b-6cd5-403f-b690-96227f32cd8b",
   "metadata": {},
   "source": [
    "# Dictionaries syntax: {'key1':'value1','key2':'value2'}"
   ]
  },
  {
   "cell_type": "code",
   "execution_count": 4,
   "id": "c17fa28f-7bf1-42f4-b0ac-fe98140cf7e4",
   "metadata": {},
   "outputs": [],
   "source": [
    "fruits = {'f1':'apple','f2':'mango','f3':'pineapple'}   #hold char"
   ]
  },
  {
   "cell_type": "code",
   "execution_count": 7,
   "id": "d53050e7-421e-48b1-ba2b-5dab5c91428a",
   "metadata": {},
   "outputs": [
    {
     "data": {
      "text/plain": [
       "{'f1': 'apple', 'f2': 'mango', 'f3': 'pineapple'}"
      ]
     },
     "execution_count": 7,
     "metadata": {},
     "output_type": "execute_result"
    }
   ],
   "source": [
    "fruits"
   ]
  },
  {
   "cell_type": "code",
   "execution_count": 9,
   "id": "20ff1ef5-cb0e-4b72-9220-8b67798d0151",
   "metadata": {},
   "outputs": [
    {
     "data": {
      "text/plain": [
       "'apple'"
      ]
     },
     "execution_count": 9,
     "metadata": {},
     "output_type": "execute_result"
    }
   ],
   "source": [
    "fruits['f1']"
   ]
  },
  {
   "cell_type": "code",
   "execution_count": 11,
   "id": "efff0040-0ce5-4079-bef5-1cd4ad757603",
   "metadata": {},
   "outputs": [],
   "source": [
    "price_lookup = {'apple' : 20 ,'mango' :30 ,'pineapple' :15} #hold int"
   ]
  },
  {
   "cell_type": "code",
   "execution_count": 13,
   "id": "611a5e01-26f6-4c09-bbac-616f37f47b57",
   "metadata": {},
   "outputs": [
    {
     "data": {
      "text/plain": [
       "20"
      ]
     },
     "execution_count": 13,
     "metadata": {},
     "output_type": "execute_result"
    }
   ],
   "source": [
    "price_lookup['apple']"
   ]
  },
  {
   "cell_type": "code",
   "execution_count": 15,
   "id": "896c2bd9-3169-453a-b256-0196764658de",
   "metadata": {},
   "outputs": [],
   "source": [
    "d = {'k1': 123 ,'k2':[0,1,2] ,'k3' : {'insidekey' :100}}"
   ]
  },
  {
   "cell_type": "code",
   "execution_count": 29,
   "id": "4522e98f-ec66-4562-8a2d-40b9e3ad8d5d",
   "metadata": {},
   "outputs": [
    {
     "data": {
      "text/plain": [
       "{'k1': 123, 'k2': [0, 1, 2], 'k3': {'insidekey': 100}}"
      ]
     },
     "execution_count": 29,
     "metadata": {},
     "output_type": "execute_result"
    }
   ],
   "source": [
    "d"
   ]
  },
  {
   "cell_type": "code",
   "execution_count": 17,
   "id": "f573dd2b-bff1-4fee-bdc9-a8b4aee339a8",
   "metadata": {},
   "outputs": [
    {
     "data": {
      "text/plain": [
       "{'insidekey': 100}"
      ]
     },
     "execution_count": 17,
     "metadata": {},
     "output_type": "execute_result"
    }
   ],
   "source": [
    "d['k3']"
   ]
  },
  {
   "cell_type": "code",
   "execution_count": 19,
   "id": "bc3ebc96-035d-40f0-af5c-2a69d28cbd94",
   "metadata": {},
   "outputs": [
    {
     "data": {
      "text/plain": [
       "[0, 1, 2]"
      ]
     },
     "execution_count": 19,
     "metadata": {},
     "output_type": "execute_result"
    }
   ],
   "source": [
    "d['k2']"
   ]
  },
  {
   "cell_type": "code",
   "execution_count": 25,
   "id": "6b446a85-1269-4691-b286-6f9cf8708ca2",
   "metadata": {},
   "outputs": [
    {
     "data": {
      "text/plain": [
       "2"
      ]
     },
     "execution_count": 25,
     "metadata": {},
     "output_type": "execute_result"
    }
   ],
   "source": [
    "d['k2'][2]"
   ]
  },
  {
   "cell_type": "code",
   "execution_count": 27,
   "id": "a5c13ea8-f025-4816-9596-cf1509543de0",
   "metadata": {},
   "outputs": [
    {
     "data": {
      "text/plain": [
       "100"
      ]
     },
     "execution_count": 27,
     "metadata": {},
     "output_type": "execute_result"
    }
   ],
   "source": [
    "d['k3']['insidekey']"
   ]
  },
  {
   "cell_type": "markdown",
   "id": "eb9ad598-34cf-408d-a230-213f0eb7f40a",
   "metadata": {},
   "source": [
    "## **Assign dict to other for particular key** "
   ]
  },
  {
   "cell_type": "code",
   "execution_count": 38,
   "id": "7b96d161-53d8-4f18-add5-2c976e5e1e9d",
   "metadata": {},
   "outputs": [],
   "source": [
    "list = {'key1' :['a','b','c','d']}"
   ]
  },
  {
   "cell_type": "code",
   "execution_count": 40,
   "id": "26deb5df-8392-4a2e-91af-2facb3ad6658",
   "metadata": {},
   "outputs": [
    {
     "data": {
      "text/plain": [
       "{'key1': ['a', 'b', 'c', 'd']}"
      ]
     },
     "execution_count": 40,
     "metadata": {},
     "output_type": "execute_result"
    }
   ],
   "source": [
    "list"
   ]
  },
  {
   "cell_type": "code",
   "execution_count": 44,
   "id": "8b75abb6-ee65-4186-9cba-56e5270ff5c8",
   "metadata": {},
   "outputs": [],
   "source": [
    "mylist = list['key1']"
   ]
  },
  {
   "cell_type": "code",
   "execution_count": 47,
   "id": "4783ab68-ff48-4989-94ae-2ca44f274ff4",
   "metadata": {},
   "outputs": [
    {
     "data": {
      "text/plain": [
       "['a', 'b', 'c', 'd']"
      ]
     },
     "execution_count": 47,
     "metadata": {},
     "output_type": "execute_result"
    }
   ],
   "source": [
    "mylist"
   ]
  },
  {
   "cell_type": "code",
   "execution_count": 49,
   "id": "c99a83d1-fa75-4ba2-8175-96b9d49b1041",
   "metadata": {},
   "outputs": [],
   "source": [
    "letter = mylist[2]"
   ]
  },
  {
   "cell_type": "code",
   "execution_count": 51,
   "id": "6505d125-7d35-4915-8d8b-a92daed96ae3",
   "metadata": {},
   "outputs": [
    {
     "data": {
      "text/plain": [
       "'c'"
      ]
     },
     "execution_count": 51,
     "metadata": {},
     "output_type": "execute_result"
    }
   ],
   "source": [
    "letter"
   ]
  },
  {
   "cell_type": "code",
   "execution_count": 53,
   "id": "d64edae6-eb2d-4288-9173-0f417e431ff5",
   "metadata": {},
   "outputs": [
    {
     "data": {
      "text/plain": [
       "'C'"
      ]
     },
     "execution_count": 53,
     "metadata": {},
     "output_type": "execute_result"
    }
   ],
   "source": [
    "letter.upper()"
   ]
  },
  {
   "cell_type": "markdown",
   "id": "07157e03-ddbc-4cab-883e-c70caf66998a",
   "metadata": {},
   "source": [
    "### **other way**"
   ]
  },
  {
   "cell_type": "code",
   "execution_count": 56,
   "id": "50f65861-b48b-404c-951c-041c3e0a8902",
   "metadata": {},
   "outputs": [
    {
     "data": {
      "text/plain": [
       "'c'"
      ]
     },
     "execution_count": 56,
     "metadata": {},
     "output_type": "execute_result"
    }
   ],
   "source": [
    "list['key1'][2]"
   ]
  },
  {
   "cell_type": "code",
   "execution_count": 59,
   "id": "d4dda866-679e-44c2-a123-7cfc78f15c2f",
   "metadata": {},
   "outputs": [
    {
     "data": {
      "text/plain": [
       "'C'"
      ]
     },
     "execution_count": 59,
     "metadata": {},
     "output_type": "execute_result"
    }
   ],
   "source": [
    "list['key1'][2].upper()"
   ]
  },
  {
   "cell_type": "code",
   "execution_count": 61,
   "id": "5a571d11-eeeb-4402-b3af-e0596ae4d2ff",
   "metadata": {},
   "outputs": [],
   "source": [
    "list['key2'] = 100"
   ]
  },
  {
   "cell_type": "code",
   "execution_count": 63,
   "id": "4b786553-a02b-4cf6-bd50-89f62fe1fced",
   "metadata": {},
   "outputs": [
    {
     "data": {
      "text/plain": [
       "{'key1': ['a', 'b', 'c', 'd'], 'key2': 100}"
      ]
     },
     "execution_count": 63,
     "metadata": {},
     "output_type": "execute_result"
    }
   ],
   "source": [
    "list"
   ]
  },
  {
   "cell_type": "code",
   "execution_count": 69,
   "id": "c3fb8ab4-0c12-4e72-855d-d30059bd261c",
   "metadata": {},
   "outputs": [],
   "source": [
    "list['key3'] = ['r','k'] #add or replace element to dict"
   ]
  },
  {
   "cell_type": "code",
   "execution_count": 71,
   "id": "f7d95d1d-bfe4-4990-a1a3-54f28df5ab7a",
   "metadata": {},
   "outputs": [
    {
     "data": {
      "text/plain": [
       "{'key1': ['a', 'b', 'c', 'd'], 'key2': 100, 'key3': ['r', 'k']}"
      ]
     },
     "execution_count": 71,
     "metadata": {},
     "output_type": "execute_result"
    }
   ],
   "source": [
    "list"
   ]
  },
  {
   "cell_type": "code",
   "execution_count": 73,
   "id": "9502982d-d97c-4384-be5f-b57cba7991c8",
   "metadata": {},
   "outputs": [],
   "source": [
    "list['key2'] = 200 #replace value"
   ]
  },
  {
   "cell_type": "code",
   "execution_count": 75,
   "id": "576c532c-00f6-404f-9749-4e0ab61213ae",
   "metadata": {},
   "outputs": [
    {
     "data": {
      "text/plain": [
       "{'key1': ['a', 'b', 'c', 'd'], 'key2': 200, 'key3': ['r', 'k']}"
      ]
     },
     "execution_count": 75,
     "metadata": {},
     "output_type": "execute_result"
    }
   ],
   "source": [
    "list"
   ]
  },
  {
   "cell_type": "code",
   "execution_count": 77,
   "id": "716f0b16-6319-4239-a4e8-c84a7324e257",
   "metadata": {},
   "outputs": [
    {
     "data": {
      "text/plain": [
       "dict_keys(['key1', 'key2', 'key3'])"
      ]
     },
     "execution_count": 77,
     "metadata": {},
     "output_type": "execute_result"
    }
   ],
   "source": [
    "list.keys() #list keys"
   ]
  },
  {
   "cell_type": "code",
   "execution_count": 79,
   "id": "8a8d7263-bf2d-49ec-9226-5d50c81a2fda",
   "metadata": {},
   "outputs": [
    {
     "data": {
      "text/plain": [
       "dict_values([['a', 'b', 'c', 'd'], 200, ['r', 'k']])"
      ]
     },
     "execution_count": 79,
     "metadata": {},
     "output_type": "execute_result"
    }
   ],
   "source": [
    "list.values()"
   ]
  },
  {
   "cell_type": "code",
   "execution_count": 81,
   "id": "c00ee759-d80c-4d32-9d48-4d0e74b95285",
   "metadata": {},
   "outputs": [
    {
     "data": {
      "text/plain": [
       "dict_items([('key1', ['a', 'b', 'c', 'd']), ('key2', 200), ('key3', ['r', 'k'])])"
      ]
     },
     "execution_count": 81,
     "metadata": {},
     "output_type": "execute_result"
    }
   ],
   "source": [
    "list.items()"
   ]
  }
 ],
 "metadata": {
  "kernelspec": {
   "display_name": "Python [conda env:Python]",
   "language": "python",
   "name": "conda-env-Python-py"
  },
  "language_info": {
   "codemirror_mode": {
    "name": "ipython",
    "version": 3
   },
   "file_extension": ".py",
   "mimetype": "text/x-python",
   "name": "python",
   "nbconvert_exporter": "python",
   "pygments_lexer": "ipython3",
   "version": "3.12.9"
  }
 },
 "nbformat": 4,
 "nbformat_minor": 5
}
