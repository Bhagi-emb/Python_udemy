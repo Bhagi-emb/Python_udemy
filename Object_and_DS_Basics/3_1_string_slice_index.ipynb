{
 "cells": [
  {
   "cell_type": "code",
   "execution_count": 44,
   "id": "1a5d396d-80d4-4cb0-86e6-de01921f485c",
   "metadata": {},
   "outputs": [],
   "source": [
    "mystring = \"this is python jupyter\""
   ]
  },
  {
   "cell_type": "code",
   "execution_count": 64,
   "id": "139667c2-9e0e-4ed6-b0c3-cf7ceb4c3a6a",
   "metadata": {},
   "outputs": [
    {
     "name": "stdout",
     "output_type": "stream",
     "text": [
      "this is python jupyter\n"
     ]
    }
   ],
   "source": [
    "print((mystring))"
   ]
  },
  {
   "cell_type": "code",
   "execution_count": 46,
   "id": "5599ef4a-e4bb-4143-b4a2-a09e84754d8e",
   "metadata": {},
   "outputs": [
    {
     "name": "stdout",
     "output_type": "stream",
     "text": [
      "len:  22\n"
     ]
    }
   ],
   "source": [
    "print(\"len: \",len(mystring))"
   ]
  },
  {
   "cell_type": "code",
   "execution_count": 48,
   "id": "dfcd4abf-acce-4410-8871-d70d73bbdcc5",
   "metadata": {},
   "outputs": [
    {
     "name": "stdout",
     "output_type": "stream",
     "text": [
      "h\n"
     ]
    }
   ],
   "source": [
    "print(mystring[1]) #first letter of sentence"
   ]
  },
  {
   "cell_type": "code",
   "execution_count": 50,
   "id": "190a5a4a-5682-439a-8d55-719b902b047b",
   "metadata": {},
   "outputs": [
    {
     "name": "stdout",
     "output_type": "stream",
     "text": [
      "r\n"
     ]
    }
   ],
   "source": [
    "print(mystring[-1])#last letter of sentence"
   ]
  },
  {
   "cell_type": "code",
   "execution_count": 52,
   "id": "b248c332-f494-4fde-bae6-efb8b0eea5aa",
   "metadata": {},
   "outputs": [
    {
     "name": "stdout",
     "output_type": "stream",
     "text": [
      "syntax :  [start ,stop, step ]\n"
     ]
    }
   ],
   "source": [
    "print(\"syntax :  [start ,stop, step ]\") #syntax"
   ]
  },
  {
   "cell_type": "code",
   "execution_count": 62,
   "id": "50067c59-ee22-4380-bee4-a036923fddde",
   "metadata": {},
   "outputs": [
    {
     "name": "stdout",
     "output_type": "stream",
     "text": [
      " char :  is is python jupyter\n"
     ]
    }
   ],
   "source": [
    "print(\" char : \",mystring[2:]) #from 2 - end letters"
   ]
  },
  {
   "cell_type": "code",
   "execution_count": 56,
   "id": "6815090d-a978-49e8-bfd0-773112158466",
   "metadata": {},
   "outputs": [
    {
     "name": "stdout",
     "output_type": "stream",
     "text": [
      " char :   python jupyter\n"
     ]
    }
   ],
   "source": [
    "print(\" char : \",mystring[7:]) #start from 7 letter it print every thing"
   ]
  },
  {
   "cell_type": "code",
   "execution_count": 58,
   "id": "aaa89d94-c9d1-4475-83d7-eb150cd56c21",
   "metadata": {},
   "outputs": [
    {
     "name": "stdout",
     "output_type": "stream",
     "text": [
      " char :  this\n"
     ]
    }
   ],
   "source": [
    "print(\" char : \",mystring[:4]) #in between 0 - 4 letter"
   ]
  },
  {
   "cell_type": "code",
   "execution_count": 60,
   "id": "9b0e0052-ff52-461c-9a94-fe5666a5d31f",
   "metadata": {},
   "outputs": [
    {
     "name": "stdout",
     "output_type": "stream",
     "text": [
      " char :   is p\n"
     ]
    }
   ],
   "source": [
    "print(\" char : \",mystring[4:9]) #In between 4 - 9 letter"
   ]
  },
  {
   "cell_type": "code",
   "execution_count": 68,
   "id": "8f8389c0-b8f0-41da-b472-fe55cd841d54",
   "metadata": {},
   "outputs": [
    {
     "name": "stdout",
     "output_type": "stream",
     "text": [
      " char :  ti spto uye\n"
     ]
    }
   ],
   "source": [
    "print(\" char : \",mystring[::2]) # step 2 - print 2 multiple places"
   ]
  },
  {
   "cell_type": "code",
   "execution_count": 72,
   "id": "51ea67ce-0b16-420e-8ae1-76dd62637e55",
   "metadata": {},
   "outputs": [
    {
     "name": "stdout",
     "output_type": "stream",
     "text": [
      " char :  ti spt\n"
     ]
    }
   ],
   "source": [
    "print(\" char : \",mystring[0:12:2]) # start 0 stop 12 step 2 - print 2 multiple places"
   ]
  },
  {
   "cell_type": "code",
   "execution_count": 74,
   "id": "9b76c615-b3bb-4524-a3f8-72dcc8966387",
   "metadata": {},
   "outputs": [
    {
     "name": "stdout",
     "output_type": "stream",
     "text": [
      " char :  retypuj nohtyp si siht\n"
     ]
    }
   ],
   "source": [
    "print(\" char : \",mystring[::-1]) # starting to end step -1 : reverse string"
   ]
  }
 ],
 "metadata": {
  "kernelspec": {
   "display_name": "Python [conda env:Python]",
   "language": "python",
   "name": "conda-env-Python-py"
  },
  "language_info": {
   "codemirror_mode": {
    "name": "ipython",
    "version": 3
   },
   "file_extension": ".py",
   "mimetype": "text/x-python",
   "name": "python",
   "nbconvert_exporter": "python",
   "pygments_lexer": "ipython3",
   "version": "3.12.9"
  }
 },
 "nbformat": 4,
 "nbformat_minor": 5
}
