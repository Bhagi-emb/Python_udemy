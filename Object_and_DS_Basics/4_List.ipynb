{
 "cells": [
  {
   "cell_type": "code",
   "execution_count": 4,
   "id": "8b7abd13-9569-4e39-8b5c-f3c87587dfe4",
   "metadata": {},
   "outputs": [],
   "source": [
    "mylist = ['one','two']"
   ]
  },
  {
   "cell_type": "code",
   "execution_count": 6,
   "id": "479b361a-803f-499e-a00d-c26bd065bf06",
   "metadata": {},
   "outputs": [
    {
     "name": "stdout",
     "output_type": "stream",
     "text": [
      "here my list  ['one', 'two']\n"
     ]
    }
   ],
   "source": [
    "print('here my list ',mylist)"
   ]
  },
  {
   "cell_type": "code",
   "execution_count": 8,
   "id": "35a39f66-ef8a-4f7f-8bfe-a73f733b3398",
   "metadata": {},
   "outputs": [
    {
     "name": "stdout",
     "output_type": "stream",
     "text": [
      "2\n"
     ]
    }
   ],
   "source": [
    "print(len(mylist))"
   ]
  },
  {
   "cell_type": "markdown",
   "id": "0a1ede0b-a6e8-400a-977f-5e484a84adb6",
   "metadata": {},
   "source": [
    "# Method 1: list + format"
   ]
  },
  {
   "cell_type": "code",
   "execution_count": 6,
   "id": "b2b2d1d4-4193-45c5-9a5d-218fd04fdf6d",
   "metadata": {},
   "outputs": [
    {
     "name": "stdout",
     "output_type": "stream",
     "text": [
      "here - format for list - ['one', 'two']\n"
     ]
    }
   ],
   "source": [
    "print('here - format for list - {}'.format(mylist))"
   ]
  },
  {
   "cell_type": "code",
   "execution_count": 17,
   "id": "d8fccdaf-1047-41ff-bbe1-c7233bd1fbef",
   "metadata": {},
   "outputs": [
    {
     "name": "stdout",
     "output_type": "stream",
     "text": [
      "here - format for list - onetwo\n"
     ]
    }
   ],
   "source": [
    "print('here - format for list - {0}{1}'.format(*mylist))"
   ]
  },
  {
   "cell_type": "code",
   "execution_count": 19,
   "id": "75493819-7530-41d5-aa58-97d7819e24f4",
   "metadata": {},
   "outputs": [
    {
     "name": "stdout",
     "output_type": "stream",
     "text": [
      "here - format for list - onetwo\n"
     ]
    }
   ],
   "source": [
    "print('here - format for list - {0}{1}'.format(mylist[0],mylist[1]))"
   ]
  },
  {
   "cell_type": "code",
   "execution_count": 21,
   "id": "9cfd93c6-758d-41c7-b63d-365f1ab886cd",
   "metadata": {},
   "outputs": [
    {
     "name": "stdout",
     "output_type": "stream",
     "text": [
      "here - format for list - one\n"
     ]
    }
   ],
   "source": [
    "print('here - format for list - {0}'.format(mylist[0]))"
   ]
  },
  {
   "cell_type": "markdown",
   "id": "b7155986-285f-4869-94da-0c9df769003e",
   "metadata": {},
   "source": [
    "# Method 2 - list array (+)"
   ]
  },
  {
   "cell_type": "code",
   "execution_count": 54,
   "id": "2aab060e-3940-4f41-b27e-858246abfc57",
   "metadata": {},
   "outputs": [],
   "source": [
    "newlist = ['three','four']"
   ]
  },
  {
   "cell_type": "code",
   "execution_count": 56,
   "id": "8aace9f7-bdde-4ef4-80c9-70154f6e3da2",
   "metadata": {},
   "outputs": [],
   "source": [
    "anotherlist = mylist + newlist"
   ]
  },
  {
   "cell_type": "code",
   "execution_count": 58,
   "id": "0fc666be-9f03-4dbc-a0d8-1b7535806e9b",
   "metadata": {},
   "outputs": [
    {
     "name": "stdout",
     "output_type": "stream",
     "text": [
      "new list :  ['one', 'two', 'three', 'four']\n"
     ]
    }
   ],
   "source": [
    "print('new list : ',anotherlist)"
   ]
  },
  {
   "cell_type": "code",
   "execution_count": 60,
   "id": "188c9d01-4424-463b-b2a8-1ff4554637f8",
   "metadata": {},
   "outputs": [],
   "source": [
    "anotherlist.append('five')"
   ]
  },
  {
   "cell_type": "code",
   "execution_count": 62,
   "id": "3b026bae-4ba4-434e-ad5b-5c50f73c5b32",
   "metadata": {},
   "outputs": [
    {
     "name": "stdout",
     "output_type": "stream",
     "text": [
      "new list updated :  ['one', 'two', 'three', 'four', 'five']\n"
     ]
    }
   ],
   "source": [
    "print('new list updated : ',anotherlist)"
   ]
  },
  {
   "cell_type": "code",
   "execution_count": 64,
   "id": "14bf9fe0-b5e5-48cc-b919-bea47d7d8f08",
   "metadata": {},
   "outputs": [],
   "source": [
    "revlist = anotherlist.reverse()"
   ]
  },
  {
   "cell_type": "code",
   "execution_count": null,
   "id": "47ba08f3-94ab-48b7-a587-a1c5196b9be6",
   "metadata": {},
   "outputs": [
    {
     "name": "stdout",
     "output_type": "stream",
     "text": [
      "reverse list:  None\n"
     ]
    }
   ],
   "source": [
    "print('reverse list: ',revlist) #check"
   ]
  },
  {
   "cell_type": "code",
   "execution_count": 68,
   "id": "f9f6b501-38d5-4dc4-bae7-218b30d9e029",
   "metadata": {},
   "outputs": [],
   "source": [
    "anotherlist[0] ='ONE'"
   ]
  },
  {
   "cell_type": "code",
   "execution_count": 70,
   "id": "d582b375-d076-45df-95ca-d6d2743368a2",
   "metadata": {},
   "outputs": [
    {
     "name": "stdout",
     "output_type": "stream",
     "text": [
      "new list updated :  ['ONE', 'four', 'three', 'two', 'one']\n"
     ]
    }
   ],
   "source": [
    "print('new list updated : ',anotherlist) "
   ]
  },
  {
   "cell_type": "code",
   "execution_count": 72,
   "id": "c2272792-c50b-4595-af6f-04dc780aa3fb",
   "metadata": {},
   "outputs": [
    {
     "data": {
      "text/plain": [
       "'one'"
      ]
     },
     "execution_count": 72,
     "metadata": {},
     "output_type": "execute_result"
    }
   ],
   "source": [
    "anotherlist.pop()   #last element deleteled by default pop(-1)"
   ]
  },
  {
   "cell_type": "code",
   "execution_count": 76,
   "id": "b68c09a2-a13d-46b0-b268-496141017f31",
   "metadata": {},
   "outputs": [
    {
     "name": "stdout",
     "output_type": "stream",
     "text": [
      "new list updated :  ['ONE', 'four', 'three', 'two']\n"
     ]
    }
   ],
   "source": [
    "print('new list updated : ',anotherlist)"
   ]
  },
  {
   "cell_type": "code",
   "execution_count": 78,
   "id": "6bddad1e-0359-417b-9a12-8c3f214f9072",
   "metadata": {},
   "outputs": [
    {
     "data": {
      "text/plain": [
       "'ONE'"
      ]
     },
     "execution_count": 78,
     "metadata": {},
     "output_type": "execute_result"
    }
   ],
   "source": [
    "anotherlist.pop(0) #specified place will be deleted "
   ]
  },
  {
   "cell_type": "code",
   "execution_count": 80,
   "id": "5e46e7e3-17fc-4b10-82cd-a771e01c0c51",
   "metadata": {},
   "outputs": [
    {
     "name": "stdout",
     "output_type": "stream",
     "text": [
      "new list updated :  ['four', 'three', 'two']\n"
     ]
    }
   ],
   "source": [
    "print('new list updated : ',anotherlist)"
   ]
  },
  {
   "cell_type": "markdown",
   "id": "70c02c86-7628-441c-ab99-330adcf40a4f",
   "metadata": {},
   "source": [
    "### newlist - for sort"
   ]
  },
  {
   "cell_type": "code",
   "execution_count": 87,
   "id": "723534d6-3b25-46c9-b1ca-628120da63bb",
   "metadata": {},
   "outputs": [],
   "source": [
    "newlist = ['q','w','e','r']\n",
    "numlist = [6,3,5,2,5]"
   ]
  },
  {
   "cell_type": "code",
   "execution_count": 89,
   "id": "c3b3616f-cc03-4122-bf9c-18eb465a3769",
   "metadata": {},
   "outputs": [],
   "source": [
    "newlist.sort()"
   ]
  },
  {
   "cell_type": "code",
   "execution_count": 93,
   "id": "bdf9ad28-92f0-4a5b-a0b7-2501e67f5e9f",
   "metadata": {},
   "outputs": [
    {
     "name": "stdout",
     "output_type": "stream",
     "text": [
      "new list updated :  ['e', 'q', 'r', 'w']\n"
     ]
    }
   ],
   "source": [
    "print('new list updated : ',newlist)"
   ]
  },
  {
   "cell_type": "markdown",
   "id": "c8836241-e32e-40ee-9fd7-5082410c4e58",
   "metadata": {},
   "source": [
    "# Nest list method"
   ]
  },
  {
   "cell_type": "code",
   "execution_count": 123,
   "id": "6c4a60a1-4608-481a-a976-09bb1f3bd965",
   "metadata": {},
   "outputs": [],
   "source": [
    "# Example 2D List\n",
    "mylist_1= [1,1,[1,2]]\n",
    "mylist_2 = [1,2,3,[4,5,6,[7,8,9]]]"
   ]
  },
  {
   "cell_type": "code",
   "execution_count": 125,
   "id": "3682156f-c348-40e6-896c-039f887c99e5",
   "metadata": {},
   "outputs": [],
   "source": [
    "# Example 3D List\n",
    "mylist_3 = [\n",
    "    [[0, 1], [2, 3]],\n",
    "    [[4, 5], [6, 7]],\n",
    "    [[8, 9], [10, 11]],  # Index 2 exists\n",
    "    [[12, 13], [14, 15]] # Index 3 exists\n",
    "]"
   ]
  },
  {
   "cell_type": "code",
   "execution_count": 127,
   "id": "5ff2b8af-14b7-49ae-8962-3a7889d0de1c",
   "metadata": {},
   "outputs": [
    {
     "name": "stdout",
     "output_type": "stream",
     "text": [
      "2D- array1:  [1, 1, [1, 2]]\n",
      "2D - array2:  [1, 2, 3, [4, 5, 6, [7, 8, 9]]]\n"
     ]
    }
   ],
   "source": [
    "print('2D- array1: ',mylist_1)\n",
    "print('2D - array2: ',mylist_2)"
   ]
  },
  {
   "cell_type": "code",
   "execution_count": 141,
   "id": "6af842a4-0ce7-4326-b0cf-18e944d06a20",
   "metadata": {},
   "outputs": [
    {
     "name": "stdout",
     "output_type": "stream",
     "text": [
      "2D -[2][0] ->  1 \n",
      " 2D -[2][1] ->  2\n"
     ]
    }
   ],
   "source": [
    "print('2D -[2][0] -> ',mylist_1[2][0],'\\n','2D -[2][1] -> ',mylist_1[2][1])"
   ]
  },
  {
   "cell_type": "code",
   "execution_count": 147,
   "id": "16ad8f35-3009-49a5-a8bb-db1d8be54d4a",
   "metadata": {},
   "outputs": [],
   "source": [
    "# mylist_2[1][0] #TypeError: 'int' object is not subscriptable"
   ]
  },
  {
   "cell_type": "code",
   "execution_count": 171,
   "id": "59ebcc16-2a6a-47d3-a526-363f2a37447d",
   "metadata": {},
   "outputs": [],
   "source": [
    "# Let's make three lists\n",
    "lst_1=[1,2,3]\n",
    "lst_2=[4,5,6]\n",
    "lst_3=[7,8,9]\n",
    "\n",
    "# Make a list of lists to form a matrix\n",
    "matrix = [lst_1,lst_2,lst_3]"
   ]
  },
  {
   "cell_type": "code",
   "execution_count": 177,
   "id": "d6e0c1bf-f6ba-4a07-ac9d-a3a77f379573",
   "metadata": {},
   "outputs": [
    {
     "data": {
      "text/plain": [
       "[[1, 2, 3], [4, 5, 6], [7, 8, 9]]"
      ]
     },
     "execution_count": 177,
     "metadata": {},
     "output_type": "execute_result"
    }
   ],
   "source": [
    "matrix"
   ]
  },
  {
   "cell_type": "code",
   "execution_count": 181,
   "id": "cebd20c9-b0e6-4d05-ae65-ed04e1e5b346",
   "metadata": {},
   "outputs": [
    {
     "data": {
      "text/plain": [
       "1"
      ]
     },
     "execution_count": 181,
     "metadata": {},
     "output_type": "execute_result"
    }
   ],
   "source": [
    "# Grab first item of the first item in the matrix object\n",
    "matrix[0][0]"
   ]
  },
  {
   "cell_type": "code",
   "execution_count": 191,
   "id": "7813684f-9b0c-4d6b-be96-19abf40c82e2",
   "metadata": {},
   "outputs": [
    {
     "name": "stdout",
     "output_type": "stream",
     "text": [
      "matrixmatrix[0][0]:  1 \n",
      "matrixmatrix[1][0]:  4 \n",
      "matrixmatrix[1][0]:  9\n"
     ]
    }
   ],
   "source": [
    "print('matrixmatrix[0][0]: ',matrix[0][0],\n",
    "      '\\nmatrixmatrix[1][0]: ',matrix[1][0],\n",
    "      '\\nmatrixmatrix[1][0]: ',matrix[2][2])"
   ]
  }
 ],
 "metadata": {
  "kernelspec": {
   "display_name": "Python [conda env:Python]",
   "language": "python",
   "name": "conda-env-Python-py"
  },
  "language_info": {
   "codemirror_mode": {
    "name": "ipython",
    "version": 3
   },
   "file_extension": ".py",
   "mimetype": "text/x-python",
   "name": "python",
   "nbconvert_exporter": "python",
   "pygments_lexer": "ipython3",
   "version": "3.12.9"
  }
 },
 "nbformat": 4,
 "nbformat_minor": 5
}
