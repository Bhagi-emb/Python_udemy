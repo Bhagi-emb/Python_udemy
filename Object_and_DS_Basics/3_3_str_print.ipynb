{
 "cells": [
  {
   "cell_type": "markdown",
   "id": "5c21c76e-2a32-4792-9faa-be7a99e59c77",
   "metadata": {},
   "source": [
    "# String Interpolation - method 1 - .format()\n",
    "**syntax for string.format() :   'stringhere{} then also {}'.format('some1','some2')**"
   ]
  },
  {
   "cell_type": "code",
   "execution_count": 21,
   "id": "b0ada220-8282-4438-8c4d-ea02cd8b4d60",
   "metadata": {},
   "outputs": [
    {
     "name": "stdout",
     "output_type": "stream",
     "text": [
      "here we fill something\n"
     ]
    }
   ],
   "source": [
    "print('here we fill {}'.format('something'))"
   ]
  },
  {
   "cell_type": "code",
   "execution_count": 37,
   "id": "47e1f167-42c2-47fa-b686-d929a01e6640",
   "metadata": {},
   "outputs": [
    {
     "name": "stdout",
     "output_type": "stream",
     "text": [
      "here , this the new \n"
     ]
    }
   ],
   "source": [
    "print(\"here , {} {} {} \".format('this','the','new'))"
   ]
  },
  {
   "cell_type": "code",
   "execution_count": 41,
   "id": "a38a0fb3-5b3f-4d81-b95d-3f033865e68a",
   "metadata": {},
   "outputs": [
    {
     "name": "stdout",
     "output_type": "stream",
     "text": [
      "here , this new the \n"
     ]
    }
   ],
   "source": [
    "print(\"here , {0} {2} {1} \".format('this','the','new'))"
   ]
  },
  {
   "cell_type": "code",
   "execution_count": 43,
   "id": "18df8cbe-bd24-4990-be6d-ec64f8485f04",
   "metadata": {},
   "outputs": [
    {
     "name": "stdout",
     "output_type": "stream",
     "text": [
      "here , this this this \n"
     ]
    }
   ],
   "source": [
    "print(\"here , {0} {0} {0} \".format('this','the','new'))"
   ]
  },
  {
   "cell_type": "code",
   "execution_count": 45,
   "id": "6aa2342c-5a21-4658-b205-940621aa276b",
   "metadata": {
    "collapsed": true,
    "jupyter": {
     "outputs_hidden": true
    }
   },
   "outputs": [
    {
     "name": "stdout",
     "output_type": "stream",
     "text": [
      "here , this the new \n"
     ]
    }
   ],
   "source": [
    "print(\"here , {t} {th} {n} \".format(t='this',th='the',n='new'))"
   ]
  },
  {
   "cell_type": "markdown",
   "id": "8fb1ed2b-838f-47e4-8076-ee5006149e8c",
   "metadata": {},
   "source": [
    "### float formating follows \"{value : width .precision f}\""
   ]
  },
  {
   "cell_type": "code",
   "execution_count": 48,
   "id": "414790f4-0304-422e-8276-05c1227c1b8c",
   "metadata": {},
   "outputs": [],
   "source": [
    "result = 100/77"
   ]
  },
  {
   "cell_type": "code",
   "execution_count": 50,
   "id": "045ca90b-8071-4903-9533-c047f1ded3f3",
   "metadata": {},
   "outputs": [
    {
     "name": "stdout",
     "output_type": "stream",
     "text": [
      "result\n"
     ]
    }
   ],
   "source": [
    "print('result')"
   ]
  },
  {
   "cell_type": "code",
   "execution_count": 52,
   "id": "9826f0b5-9846-4e91-ab87-02ca1df8489f",
   "metadata": {},
   "outputs": [
    {
     "name": "stdout",
     "output_type": "stream",
     "text": [
      "the result:  1.2987012987012987\n"
     ]
    }
   ],
   "source": [
    "print(\"the result: \",result)"
   ]
  },
  {
   "cell_type": "code",
   "execution_count": 57,
   "id": "355a95db-a92d-4099-986d-5197f3a6d97d",
   "metadata": {},
   "outputs": [
    {
     "name": "stdout",
     "output_type": "stream",
     "text": [
      "the result:1.2987012987012987 \n"
     ]
    }
   ],
   "source": [
    "print(\"the result:{r} \".format(r=result))"
   ]
  },
  {
   "cell_type": "code",
   "execution_count": 72,
   "id": "b0ae01ef-0e3e-4d1b-9756-a0b307f8ec8e",
   "metadata": {},
   "outputs": [
    {
     "name": "stdout",
     "output_type": "stream",
     "text": [
      "the result: 1.299 \n"
     ]
    }
   ],
   "source": [
    "print(\"the result: {r:1.3f} \".format(r=result)) #value:width(space before value).precision"
   ]
  },
  {
   "cell_type": "markdown",
   "id": "b3c507e4-d9b3-42fc-a975-94836ba2c8c5",
   "metadata": {},
   "source": [
    "# String Interpolation - method 2 - f-string()"
   ]
  },
  {
   "cell_type": "code",
   "execution_count": 78,
   "id": "a5cb25a1-f06f-4248-bce1-dcc224303354",
   "metadata": {},
   "outputs": [],
   "source": [
    "name = \"jose\" #double qoute"
   ]
  },
  {
   "cell_type": "code",
   "execution_count": 80,
   "id": "30ada402-5cb1-49a5-bedd-5e66128e7635",
   "metadata": {},
   "outputs": [
    {
     "name": "stdout",
     "output_type": "stream",
     "text": [
      "hello,his name is jose\n"
     ]
    }
   ],
   "source": [
    "print(f'hello,his name is {name}')"
   ]
  },
  {
   "cell_type": "code",
   "execution_count": 82,
   "id": "6b1dcfbb-4982-4eae-b5bf-aa29d03c2450",
   "metadata": {},
   "outputs": [],
   "source": [
    "name ='yarn'  #single quote"
   ]
  },
  {
   "cell_type": "code",
   "execution_count": 86,
   "id": "154ec7c5-b464-46a1-992a-e8783b7bbf1c",
   "metadata": {},
   "outputs": [
    {
     "name": "stdout",
     "output_type": "stream",
     "text": [
      "hello,his name is yarn\n"
     ]
    }
   ],
   "source": [
    "print(f'hello,his name is {name}')"
   ]
  },
  {
   "cell_type": "code",
   "execution_count": 92,
   "id": "a610c0ed-77c8-4f63-810f-af5ffec1c9d6",
   "metadata": {},
   "outputs": [
    {
     "name": "stdout",
     "output_type": "stream",
     "text": [
      "hello his name is yarn \n"
     ]
    }
   ],
   "source": [
    "print(\"hello his name is {r} \".format(r=name))"
   ]
  },
  {
   "cell_type": "code",
   "execution_count": 100,
   "id": "dbfb0f83-c06a-4597-bc7a-18faf91b11ba",
   "metadata": {},
   "outputs": [
    {
     "name": "stdout",
     "output_type": "stream",
     "text": [
      "hello , this  yarn age 3\n"
     ]
    }
   ],
   "source": [
    "age =3\n",
    "print(f\"hello , this  {name} age {age}\")"
   ]
  }
 ],
 "metadata": {
  "kernelspec": {
   "display_name": "Python [conda env:Python]",
   "language": "python",
   "name": "conda-env-Python-py"
  },
  "language_info": {
   "codemirror_mode": {
    "name": "ipython",
    "version": 3
   },
   "file_extension": ".py",
   "mimetype": "text/x-python",
   "name": "python",
   "nbconvert_exporter": "python",
   "pygments_lexer": "ipython3",
   "version": "3.12.9"
  }
 },
 "nbformat": 4,
 "nbformat_minor": 5
}
