{
 "cells": [
  {
   "cell_type": "code",
   "execution_count": 5,
   "id": "4f88f0a2-ecf0-45dd-9535-03d061bf697e",
   "metadata": {},
   "outputs": [
    {
     "name": "stdout",
     "output_type": "stream",
     "text": [
      "hello\n"
     ]
    }
   ],
   "source": [
    "print('hello')"
   ]
  },
  {
   "cell_type": "code",
   "execution_count": 9,
   "id": "e9a9811a-d7fc-47b1-8dda-144e9a31ca12",
   "metadata": {},
   "outputs": [
    {
     "name": "stdout",
     "output_type": "stream",
     "text": [
      "hello i'm here\n"
     ]
    }
   ],
   "source": [
    "print(\"hello i'm here\")"
   ]
  },
  {
   "cell_type": "code",
   "execution_count": 15,
   "id": "d39def0f-f328-4337-9877-9ce667eb0a7e",
   "metadata": {},
   "outputs": [
    {
     "name": "stdout",
     "output_type": "stream",
     "text": [
      "hello \n",
      " there\n"
     ]
    }
   ],
   "source": [
    "print('hello \\n there')"
   ]
  },
  {
   "cell_type": "code",
   "execution_count": 21,
   "id": "da67e85a-b316-4287-b720-f2bcfe1907ef",
   "metadata": {},
   "outputs": [
    {
     "name": "stdout",
     "output_type": "stream",
     "text": [
      "lenght of hello :  5\n"
     ]
    }
   ],
   "source": [
    "print(\"lenght of hello : \",len('hello'))"
   ]
  }
 ],
 "metadata": {
  "kernelspec": {
   "display_name": "Python [conda env:base] *",
   "language": "python",
   "name": "conda-base-py"
  },
  "language_info": {
   "codemirror_mode": {
    "name": "ipython",
    "version": 3
   },
   "file_extension": ".py",
   "mimetype": "text/x-python",
   "name": "python",
   "nbconvert_exporter": "python",
   "pygments_lexer": "ipython3",
   "version": "3.12.7"
  }
 },
 "nbformat": 4,
 "nbformat_minor": 5
}
