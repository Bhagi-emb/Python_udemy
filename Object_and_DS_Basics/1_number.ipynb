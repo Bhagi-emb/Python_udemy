{
 "cells": [
  {
   "cell_type": "markdown",
   "id": "bc975f41-f9ee-48d3-9c01-b4f547a97233",
   "metadata": {},
   "source": [
    "Basic operations"
   ]
  },
  {
   "cell_type": "code",
   "execution_count": 1,
   "id": "103ad42c-1060-4e00-afa4-7746fc2087d3",
   "metadata": {},
   "outputs": [
    {
     "data": {
      "text/plain": [
       "3"
      ]
     },
     "execution_count": 1,
     "metadata": {},
     "output_type": "execute_result"
    }
   ],
   "source": [
    "2+1"
   ]
  },
  {
   "cell_type": "code",
   "execution_count": 2,
   "id": "ccddd5e7-0ce8-40b3-99e2-49b2d0936e93",
   "metadata": {},
   "outputs": [
    {
     "data": {
      "text/plain": [
       "1"
      ]
     },
     "execution_count": 2,
     "metadata": {},
     "output_type": "execute_result"
    }
   ],
   "source": [
    "2-1"
   ]
  },
  {
   "cell_type": "code",
   "execution_count": 4,
   "id": "08694421-22ce-45e3-81ac-6bed9b90b4f3",
   "metadata": {},
   "outputs": [
    {
     "data": {
      "text/plain": [
       "2.0"
      ]
     },
     "execution_count": 4,
     "metadata": {},
     "output_type": "execute_result"
    }
   ],
   "source": [
    "4/2"
   ]
  },
  {
   "cell_type": "code",
   "execution_count": 12,
   "id": "f93bbc7f-01ef-458f-8395-f5e2d075ed0f",
   "metadata": {},
   "outputs": [
    {
     "data": {
      "text/plain": [
       "8"
      ]
     },
     "execution_count": 12,
     "metadata": {},
     "output_type": "execute_result"
    }
   ],
   "source": [
    "4*2"
   ]
  },
  {
   "cell_type": "markdown",
   "id": "337cad02-9c8c-4a56-b141-b0f6e486a6d8",
   "metadata": {},
   "source": [
    "Mod operater or mod"
   ]
  },
  {
   "cell_type": "code",
   "execution_count": 15,
   "id": "850add70-f02a-4d9b-a7be-f42e6c8a50db",
   "metadata": {},
   "outputs": [
    {
     "data": {
      "text/plain": [
       "1.75"
      ]
     },
     "execution_count": 15,
     "metadata": {},
     "output_type": "execute_result"
    }
   ],
   "source": [
    "7/4"
   ]
  },
  {
   "cell_type": "code",
   "execution_count": 17,
   "id": "6ad27efc-2092-4674-9ac0-b538c340d1da",
   "metadata": {},
   "outputs": [
    {
     "data": {
      "text/plain": [
       "3"
      ]
     },
     "execution_count": 17,
     "metadata": {},
     "output_type": "execute_result"
    }
   ],
   "source": [
    "7%4"
   ]
  },
  {
   "cell_type": "code",
   "execution_count": 19,
   "id": "abd2bf89-088a-43bb-a69b-f84722c73611",
   "metadata": {},
   "outputs": [
    {
     "data": {
      "text/plain": [
       "0"
      ]
     },
     "execution_count": 19,
     "metadata": {},
     "output_type": "execute_result"
    }
   ],
   "source": [
    "50 %5"
   ]
  },
  {
   "cell_type": "code",
   "execution_count": 21,
   "id": "e90f5278-3b15-4622-b04a-8fc6678430d1",
   "metadata": {},
   "outputs": [
    {
     "data": {
      "text/plain": [
       "1"
      ]
     },
     "execution_count": 21,
     "metadata": {},
     "output_type": "execute_result"
    }
   ],
   "source": [
    "23 %2"
   ]
  },
  {
   "cell_type": "markdown",
   "id": "047be994-80a2-4230-b056-8236f598b265",
   "metadata": {},
   "source": [
    "POWER calucation "
   ]
  },
  {
   "cell_type": "code",
   "execution_count": 24,
   "id": "a235521f-26da-440f-96c3-6ee6ea54aa3d",
   "metadata": {},
   "outputs": [
    {
     "data": {
      "text/plain": [
       "8"
      ]
     },
     "execution_count": 24,
     "metadata": {},
     "output_type": "execute_result"
    }
   ],
   "source": [
    "2 ** 3"
   ]
  },
  {
   "cell_type": "markdown",
   "id": "1aec1139-b891-4411-8cd6-f07eae917f45",
   "metadata": {},
   "source": [
    "BODMAS Calculation"
   ]
  },
  {
   "cell_type": "code",
   "execution_count": 29,
   "id": "1ed4efa5-faf0-431b-a55d-3faec640c6fb",
   "metadata": {},
   "outputs": [
    {
     "data": {
      "text/plain": [
       "101.0"
      ]
     },
     "execution_count": 29,
     "metadata": {},
     "output_type": "execute_result"
    }
   ],
   "source": [
    "2 +10 *10 +3/3 - 2"
   ]
  },
  {
   "cell_type": "code",
   "execution_count": 31,
   "id": "bb864b5a-2f49-4dc4-ac52-a035134f92f6",
   "metadata": {},
   "outputs": [
    {
     "data": {
      "text/plain": [
       "156.0"
      ]
     },
     "execution_count": 31,
     "metadata": {},
     "output_type": "execute_result"
    }
   ],
   "source": [
    "(2+10) * (10 + 3) / (3-2)"
   ]
  }
 ],
 "metadata": {
  "kernelspec": {
   "display_name": "Python 3",
   "language": "python",
   "name": "python3"
  },
  "language_info": {
   "codemirror_mode": {
    "name": "ipython",
    "version": 3
   },
   "file_extension": ".py",
   "mimetype": "text/x-python",
   "name": "python",
   "nbconvert_exporter": "python",
   "pygments_lexer": "ipython3",
   "version": "3.9.6"
  }
 },
 "nbformat": 4,
 "nbformat_minor": 5
}
