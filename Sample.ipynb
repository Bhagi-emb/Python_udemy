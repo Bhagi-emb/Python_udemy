{
 "cells": [
  {
   "cell_type": "code",
   "execution_count": null,
   "id": "4e3329c5-4c3b-45cf-a09a-b06850cd6ab6",
   "metadata": {},
   "outputs": [
    {
     "data": {
      "text/plain": [
       "3"
      ]
     },
     "execution_count": 4,
     "metadata": {},
     "output_type": "execute_result"
    }
   ],
   "source": [
    "2+1 #shift+enter #jupyter notebook"
   ]
  },
  {
   "cell_type": "code",
   "execution_count": 3,
   "id": "7bb5082d-8866-49e5-9ceb-6cc20e13860a",
   "metadata": {},
   "outputs": [
    {
     "data": {
      "text/plain": [
       "5"
      ]
     },
     "execution_count": 3,
     "metadata": {},
     "output_type": "execute_result"
    }
   ],
   "source": [
    "4+1"
   ]
  },
  {
   "cell_type": "code",
   "execution_count": 8,
   "id": "1a208b8c-db22-45c0-9d16-f4268357dee2",
   "metadata": {},
   "outputs": [
    {
     "name": "stdout",
     "output_type": "stream",
     "text": [
      "\n",
      "helloDF world\n",
      "\n",
      "new\n"
     ]
    }
   ],
   "source": [
    "print('\\nhelloDF world\\n')\n",
    "print('new')"
   ]
  },
  {
   "cell_type": "markdown",
   "id": "0b27ee81",
   "metadata": {},
   "source": [
    "#This is markdown cell"
   ]
  }
 ],
 "metadata": {
  "kernelspec": {
   "display_name": "Python 3",
   "language": "python",
   "name": "python3"
  },
  "language_info": {
   "codemirror_mode": {
    "name": "ipython",
    "version": 3
   },
   "file_extension": ".py",
   "mimetype": "text/x-python",
   "name": "python",
   "nbconvert_exporter": "python",
   "pygments_lexer": "ipython3",
   "version": "3.9.6"
  }
 },
 "nbformat": 4,
 "nbformat_minor": 5
}
