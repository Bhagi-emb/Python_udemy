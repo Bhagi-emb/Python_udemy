{
 "cells": [
  {
   "cell_type": "markdown",
   "id": "1e36f394",
   "metadata": {},
   "source": [
    "# **IF ELIF ELSE STATMENTS**"
   ]
  },
  {
   "cell_type": "code",
   "execution_count": 2,
   "id": "a8ba39d6",
   "metadata": {},
   "outputs": [],
   "source": [
    "a = 10\n",
    "b = 20\n",
    "c = 22"
   ]
  },
  {
   "cell_type": "markdown",
   "id": "24ec5e95",
   "metadata": {},
   "source": [
    "#### **If statment**"
   ]
  },
  {
   "cell_type": "code",
   "execution_count": 4,
   "id": "e4097148",
   "metadata": {},
   "outputs": [
    {
     "name": "stdout",
     "output_type": "stream",
     "text": [
      "a is less than b\n"
     ]
    }
   ],
   "source": [
    "if a>b:\n",
    "    print(\"a is greater than b\")\n",
    "if a<b:\n",
    "    print(\"a is less than b\")\n"
   ]
  },
  {
   "cell_type": "markdown",
   "id": "380961b2",
   "metadata": {},
   "source": [
    "#### **Elif statment**"
   ]
  },
  {
   "cell_type": "code",
   "execution_count": 5,
   "id": "bcdf5453",
   "metadata": {},
   "outputs": [
    {
     "name": "stdout",
     "output_type": "stream",
     "text": [
      "a is less than b\n"
     ]
    }
   ],
   "source": [
    "if a>b:\n",
    "    print(\"a is greater than b\")\n",
    "elif a<b:\n",
    "    print(\"a is less than b\")\n",
    "elif a==b:\n",
    "    print(\"a is equal to b\")"
   ]
  },
  {
   "cell_type": "markdown",
   "id": "24bcae93",
   "metadata": {},
   "source": [
    "#### **If elif and else**"
   ]
  },
  {
   "cell_type": "code",
   "execution_count": 6,
   "id": "b3d04999",
   "metadata": {},
   "outputs": [
    {
     "name": "stdout",
     "output_type": "stream",
     "text": [
      "a is less than c\n"
     ]
    }
   ],
   "source": [
    "if a>b:\n",
    "    print(\"a is greater than b\")\n",
    "elif a==b:\n",
    "    print(\"a is equal to b\")\n",
    "elif a<c:\n",
    "    print(\"a is less than c\")\n",
    "elif a==c:\n",
    "    print(\"a is equal to c\")\n",
    "else:\n",
    "    print(\"a is less than b and c\")    "
   ]
  },
  {
   "cell_type": "code",
   "execution_count": null,
   "id": "a204d89b",
   "metadata": {},
   "outputs": [
    {
     "name": "stdout",
     "output_type": "stream",
     "text": [
      "I am hungry\n"
     ]
    }
   ],
   "source": [
    "#example1:\n",
    "\n",
    "hungry = True\n",
    "if hungry:\n",
    "    print(\"I am hungry\")\n",
    "else:\n",
    "    print(\"I am not hungry\")\n"
   ]
  },
  {
   "cell_type": "code",
   "execution_count": 11,
   "id": "983605ea",
   "metadata": {},
   "outputs": [
    {
     "name": "stdout",
     "output_type": "stream",
     "text": [
      "Books are cool!\n"
     ]
    }
   ],
   "source": [
    "#example2:\n",
    "loc = \"library\"\n",
    "if loc == \"Auto Shop\":\n",
    "    print(\"Cars are cool!\")\n",
    "elif loc == \"Bank\":\n",
    "    print(\"Money is cool!\")\n",
    "elif loc == 'library':\n",
    "    print(\"Books are cool!\")\n",
    "elif loc == \"Store\":\n",
    "    print(\"Welcome to the store!\")\n",
    "elif loc == \"Home\":\n",
    "    print(\"Welcome home!\")\n",
    "else:\n",
    "    print(\"Where are you?\")"
   ]
  }
 ],
 "metadata": {
  "kernelspec": {
   "display_name": "Python 3",
   "language": "python",
   "name": "python3"
  },
  "language_info": {
   "codemirror_mode": {
    "name": "ipython",
    "version": 3
   },
   "file_extension": ".py",
   "mimetype": "text/x-python",
   "name": "python",
   "nbconvert_exporter": "python",
   "pygments_lexer": "ipython3",
   "version": "3.8.10"
  }
 },
 "nbformat": 4,
 "nbformat_minor": 5
}
