{
 "cells": [
  {
   "cell_type": "markdown",
   "id": "b6be7d95",
   "metadata": {},
   "source": [
    "# **FOR LOOP**\n",
    "##### For loop are iterable"
   ]
  },
  {
   "cell_type": "markdown",
   "id": "83e41159",
   "metadata": {},
   "source": [
    "### **syntax:**\n",
    "\n",
    "my_iterable =[1,2,3]\n",
    "\n",
    "**for item_name in my_iterable:**\n",
    "\n",
    "        print(item_name) #item_name can choose anything"
   ]
  },
  {
   "cell_type": "markdown",
   "id": "27b39eed",
   "metadata": {},
   "source": [
    "#### **FOR _ LIST:**"
   ]
  },
  {
   "cell_type": "code",
   "execution_count": 30,
   "id": "88a897a1",
   "metadata": {},
   "outputs": [
    {
     "name": "stdout",
     "output_type": "stream",
     "text": [
      "1\n",
      "2\n",
      "3\n",
      "============\n",
      "1\n",
      "2\n",
      "3\n"
     ]
    }
   ],
   "source": [
    "item =[1,2,3]\n",
    "for it in item:\n",
    "    print(it)\n",
    "print(\"============\")\n",
    "for list in item:\n",
    "    print(list)\n"
   ]
  },
  {
   "cell_type": "code",
   "execution_count": 7,
   "id": "ec72b29a",
   "metadata": {},
   "outputs": [
    {
     "name": "stdout",
     "output_type": "stream",
     "text": [
      "odd number : 1\n",
      "2\n",
      "odd number : 3\n",
      "4\n",
      "odd number : 5\n",
      "6\n",
      "odd number : 7\n",
      "8\n",
      "odd number : 9\n",
      "10\n"
     ]
    }
   ],
   "source": [
    "item = [1,2,3,4,5,6,7,8,9,10]\n",
    "for list in item:    #print even number\n",
    "    if list % 2 == 0:\n",
    "        print(list)\n",
    "    else:\n",
    "        #print(\"odd number: \", list)\n",
    "        print(f\"odd number : {list}\")"
   ]
  },
  {
   "cell_type": "code",
   "execution_count": 9,
   "id": "92f6df3f",
   "metadata": {},
   "outputs": [
    {
     "name": "stdout",
     "output_type": "stream",
     "text": [
      "sum of 1 is 1\n",
      "sum of 2 is 3\n",
      "sum of 3 is 6\n",
      "sum of 4 is 10\n",
      "sum of 5 is 15\n",
      "sum of 6 is 21\n",
      "sum of 7 is 28\n",
      "sum of 8 is 36\n",
      "sum of 9 is 45\n",
      "sum of 10 is 55\n",
      "============\n",
      "sum of all number is 55\n"
     ]
    }
   ],
   "source": [
    "add_sum = 0\n",
    "for sum in item:\n",
    "    add_sum = add_sum +sum\n",
    "    print(f\"sum of {sum} is {add_sum}\") #white spaces shows its in loop \n",
    "print(\"============\")\n",
    "print(f\"sum of all number is {add_sum}\")"
   ]
  },
  {
   "cell_type": "code",
   "execution_count": 10,
   "id": "4506aeb8",
   "metadata": {},
   "outputs": [
    {
     "name": "stdout",
     "output_type": "stream",
     "text": [
      "hello\n",
      "hello\n",
      "hello\n",
      "hello\n",
      "hello\n"
     ]
    }
   ],
   "source": [
    "#common things\n",
    "for _ in 'hello': #it will print 5 times(5 letters in hello)\n",
    "    print(\"hello\")\n",
    "#'_' is a throwaway variable ,common syntax"
   ]
  },
  {
   "cell_type": "code",
   "execution_count": 23,
   "id": "46990431",
   "metadata": {},
   "outputs": [
    {
     "name": "stdout",
     "output_type": "stream",
     "text": [
      "h\n",
      "e\n",
      "l\n",
      "l\n",
      "o\n",
      " \n",
      "w\n",
      "o\n",
      "r\n",
      "l\n",
      "d\n"
     ]
    }
   ],
   "source": [
    "#print letter in string\n",
    "str = \"hello world\"\n",
    "for _ in str:\n",
    "    print(_)"
   ]
  },
  {
   "cell_type": "markdown",
   "id": "80f90cd6",
   "metadata": {},
   "source": [
    "#### **FOR _ TUPLES :**"
   ]
  },
  {
   "cell_type": "code",
   "execution_count": 14,
   "id": "20bab53b",
   "metadata": {},
   "outputs": [
    {
     "name": "stdout",
     "output_type": "stream",
     "text": [
      "tup[ 0 ] : 1\n",
      "tup[ 1 ] : 2\n",
      "tup[ 2 ] : 3\n"
     ]
    }
   ],
   "source": [
    "#tuples\n",
    "tup =(1,2,3)    \n",
    "i =0\n",
    "for _ in tup:\n",
    "    print(\"tup[\",i,\"] :\",tup[i])\n",
    "    i += 1"
   ]
  },
  {
   "cell_type": "code",
   "execution_count": 17,
   "id": "c94eeac8",
   "metadata": {},
   "outputs": [
    {
     "name": "stdout",
     "output_type": "stream",
     "text": [
      "1\n"
     ]
    }
   ],
   "source": [
    "#Tuple packing and unpacking\n",
    "tup = (1,2,3)\n",
    "a,b,c = tup\n",
    "print(a)"
   ]
  },
  {
   "cell_type": "code",
   "execution_count": 28,
   "id": "49e5c567",
   "metadata": {},
   "outputs": [
    {
     "name": "stdout",
     "output_type": "stream",
     "text": [
      "(1, 2, 3)\n",
      "(4, 5, 6)\n",
      "(7, 8, 9)\n",
      "Below example is tuple unpacking\n",
      "1\n",
      "2\n",
      "3\n",
      "4\n",
      "5\n",
      "6\n",
      "7\n",
      "8\n",
      "9\n"
     ]
    }
   ],
   "source": [
    "#tuple and list\n",
    "list = [(1,2,3),(4,5,6),(7,8,9)]\n",
    "len(list)\n",
    "for _ in list:\n",
    "    print(_)\n",
    "#tuple unpacking\n",
    "print(\"Below example is tuple unpacking\")\n",
    "for (a,b,c) in list:\n",
    "    print(a)\n",
    "    print(b)\n",
    "    print(c)"
   ]
  },
  {
   "cell_type": "code",
   "execution_count": 29,
   "id": "ca5a2931",
   "metadata": {},
   "outputs": [
    {
     "name": "stdout",
     "output_type": "stream",
     "text": [
      "Below example is tuple unpacking\n",
      "1\n",
      "2\n",
      "3\n",
      "4\n",
      "5\n",
      "6\n",
      "7\n",
      "8\n",
      "9\n"
     ]
    }
   ],
   "source": [
    "#tuple unpacking\n",
    "print(\"Below example is tuple unpacking\")\n",
    "for a,b,c in list:  #without parenthesis\n",
    "    print(a)\n",
    "    print(b)\n",
    "    print(c)"
   ]
  },
  {
   "cell_type": "markdown",
   "id": "9b811a64",
   "metadata": {},
   "source": [
    "#### **FOR _ DICTIONARIES :**"
   ]
  },
  {
   "cell_type": "code",
   "execution_count": 31,
   "id": "dfeea62c",
   "metadata": {},
   "outputs": [
    {
     "name": "stdout",
     "output_type": "stream",
     "text": [
      "k1\n",
      "k2\n",
      "k3\n"
     ]
    }
   ],
   "source": [
    "#Dictionary\n",
    "dict = {'k1':1,'k2':2,'k3':3}\n",
    "for _ in dict:\n",
    "    print(_) #print only keys"
   ]
  },
  {
   "cell_type": "code",
   "execution_count": 34,
   "id": "7bdc64ef",
   "metadata": {},
   "outputs": [
    {
     "name": "stdout",
     "output_type": "stream",
     "text": [
      "=====items=======\n",
      "('k1', 1)\n",
      "('k2', 2)\n",
      "('k3', 3)\n",
      "=====key and value=======\n",
      "k1\n",
      "1\n",
      "k2\n",
      "2\n",
      "k3\n",
      "3\n",
      "=====value=======\n",
      "1\n",
      "2\n",
      "3\n"
     ]
    }
   ],
   "source": [
    "print(\"=====items=======\")\n",
    "for _ in dict.items():\n",
    "    print(_) #print key and value\n",
    "print(\"=====key and value=======\")\n",
    "for k,v in dict.items():\n",
    "    print(k)\n",
    "    print(v)\n",
    "print(\"=====value=======\")\n",
    "for _ in dict.values():\n",
    "    print(_) #print only values\n"
   ]
  }
 ],
 "metadata": {
  "kernelspec": {
   "display_name": "Python 3",
   "language": "python",
   "name": "python3"
  },
  "language_info": {
   "codemirror_mode": {
    "name": "ipython",
    "version": 3
   },
   "file_extension": ".py",
   "mimetype": "text/x-python",
   "name": "python",
   "nbconvert_exporter": "python",
   "pygments_lexer": "ipython3",
   "version": "3.8.10"
  }
 },
 "nbformat": 4,
 "nbformat_minor": 5
}
